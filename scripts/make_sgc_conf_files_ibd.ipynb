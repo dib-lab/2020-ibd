{
 "cells": [
  {
   "cell_type": "markdown",
   "metadata": {},
   "source": [
    "Make conf files for spacegraphcats queries"
   ]
  },
  {
   "cell_type": "code",
   "execution_count": 1,
   "metadata": {},
   "outputs": [],
   "source": [
    "import yaml\n",
    "import io\n",
    "import pandas as pd\n",
    "import re"
   ]
  },
  {
   "cell_type": "code",
   "execution_count": 2,
   "metadata": {},
   "outputs": [],
   "source": [
    "m = pd.read_csv(\"../inputs/working_metadata.tsv\", sep = \"\\t\", header = 0)\n",
    "SAMPLES = m.sort_values(by='read_count')['run_accession']\n",
    "LIBRARIES = m['library_name'].unique().tolist()"
   ]
  },
  {
   "cell_type": "markdown",
   "metadata": {},
   "source": [
    "Example conf file\n",
    "\n",
    "```\n",
    "catlas_base: MSM79H58\n",
    "input_sequences:\n",
    "- inputs/cat/MSM79H58_1.fastq.gz\n",
    "- inputs/cat/MSM79H58_2.fastq.gz\n",
    "ksize: 31\n",
    "radius: 1\n",
    "search:\n",
    "- ~/github/spacegraphcats/data/2.fa.gz\n",
    "searchquick:\n",
    "- ~/github/spacegraphcats/data/63.fa.gz\n",
    "\n",
    "hashval_ksize: 51\n",
    "hashval_queries: ../calc_cosmo_kmers/hmp_scaled2k_th138.labels.txt\n",
    "```"
   ]
  },
  {
   "cell_type": "code",
   "execution_count": 3,
   "metadata": {},
   "outputs": [],
   "source": [
    "genomes = [\"ERS235530_10.fna.gz\", \"ERS235531_43.fna.gz\", \"ERS235603_16.fna.gz\", \n",
    "           \"ERS396297_11.fna.gz\", \"ERS396519_11.fna.gz\", \"ERS473255_26.fna.gz\", \n",
    "           \"ERS537218_9.fna.gz\", \"ERS537235_19.fna.gz\", \"ERS537328_30.fna.gz\", \n",
    "           \"ERS537353_12.fna.gz\", \"ERS608524_37.fna.gz\", \"ERS608576_22.fna.gz\", \n",
    "           \"GCF_000371685.1_Clos_bolt_90B3_V1_genomic.fna.gz\", \n",
    "           \"GCF_000508885.1_ASM50888v1_genomic.fna.gz\", \n",
    "           \"GCF_001405615.1_13414_6_47_genomic.fna.gz\", \n",
    "           \"GCF_900036035.1_RGNV35913_genomic.fna.gz\", \n",
    "           \"LeChatelierE_2013__MH0074__bin.19.fa.gz\", \"LiJ_2014__O2.UC28-1__bin.61.fa.gz\",\n",
    "           \"LiSS_2016__FAT_DON_8-22-0-0__bin.28.fa.gz\", \"LoombaR_2017__SID1050_bax__bin.11.fa.gz\",\n",
    "           \"NielsenHB_2014__MH0094__bin.44.fa.gz\", \"QinJ_2012__CON-091__bin.20.fa.gz\",\n",
    "           \"SRR4305229_bin.5.fa.gz\", \"SRR5127401_bin.3.fa.gz\", \"SRR5558047_bin.10.fa.gz\",\n",
    "           \"SRR6028281_bin.3.fa.gz\", \"SRS075078_49.fna.gz\", \"SRS103987_37.fna.gz\", \n",
    "           \"SRS104400_110.fna.gz\", \"SRS143598_15.fna.gz\", \"SRS1719112_8.fna.gz\", \n",
    "           \"SRS1719498_9.fna.gz\", \"SRS1719577_6.fna.gz\", \"SRS1735506_4.fna.gz\", \n",
    "           \"SRS1735645_19.fna.gz\", \"SRS294916_20.fna.gz\", \"SRS476209_42.fna.gz\", \n",
    "           \"VatanenT_2016__G80445__bin.9.fa.gz\", \"VogtmannE_2016__MMRS43563715ST-27-0-0__bin.70.fa.gz\",\n",
    "           \"XieH_2016__YSZC12003_37172__bin.63.fa.gz\", \"ZeeviD_2015__PNP_Main_232__bin.27.fa.gz\"]"
   ]
  },
  {
   "cell_type": "code",
   "execution_count": 4,
   "metadata": {},
   "outputs": [
    {
     "data": {
      "text/plain": [
       "41"
      ]
     },
     "execution_count": 4,
     "metadata": {},
     "output_type": "execute_result"
    }
   ],
   "source": [
    "len(genomes)"
   ]
  },
  {
   "cell_type": "code",
   "execution_count": 5,
   "metadata": {},
   "outputs": [],
   "source": [
    "paths = [\"outputs/gather_matches_loso/\" + genome for genome in genomes]"
   ]
  },
  {
   "cell_type": "code",
   "execution_count": 6,
   "metadata": {},
   "outputs": [],
   "source": [
    "for library in LIBRARIES:\n",
    "    yml = {'catlas_base': library,\n",
    "           'input_sequences': ['outputs/abundtrim/' + library + '.abundtrim.fq.gz'],\n",
    "           'ksize': 31, \n",
    "           'radius': 1,\n",
    "           'search': paths,\n",
    "           'searchquick': paths[0]}\n",
    "    with io.open(\"../inputs/sgc_conf/\" + library + '_r1_conf.yml', 'w', encoding='utf8') as outfile:\n",
    "        yaml.dump(yml, outfile, default_flow_style=False, allow_unicode=True, sort_keys=False)"
   ]
  },
  {
   "cell_type": "code",
   "execution_count": 7,
   "metadata": {},
   "outputs": [],
   "source": [
    "paths2 = [\"outputs/gather_matches_loso_prokka/\" + genome + '.ffn' for genome in genomes]"
   ]
  },
  {
   "cell_type": "code",
   "execution_count": 8,
   "metadata": {},
   "outputs": [],
   "source": [
    "paths2 = [re.sub(\".gz\", \"\", path) for path in paths2]"
   ]
  },
  {
   "cell_type": "code",
   "execution_count": 9,
   "metadata": {},
   "outputs": [
    {
     "data": {
      "text/plain": [
       "['outputs/gather_matches_loso_prokka/ERS235530_10.fna.ffn',\n",
       " 'outputs/gather_matches_loso_prokka/ERS235531_43.fna.ffn',\n",
       " 'outputs/gather_matches_loso_prokka/ERS235603_16.fna.ffn',\n",
       " 'outputs/gather_matches_loso_prokka/ERS396297_11.fna.ffn',\n",
       " 'outputs/gather_matches_loso_prokka/ERS396519_11.fna.ffn',\n",
       " 'outputs/gather_matches_loso_prokka/ERS473255_26.fna.ffn',\n",
       " 'outputs/gather_matches_loso_prokka/ERS537218_9.fna.ffn',\n",
       " 'outputs/gather_matches_loso_prokka/ERS537235_19.fna.ffn',\n",
       " 'outputs/gather_matches_loso_prokka/ERS537328_30.fna.ffn',\n",
       " 'outputs/gather_matches_loso_prokka/ERS537353_12.fna.ffn',\n",
       " 'outputs/gather_matches_loso_prokka/ERS608524_37.fna.ffn',\n",
       " 'outputs/gather_matches_loso_prokka/ERS608576_22.fna.ffn',\n",
       " 'outputs/gather_matches_loso_prokka/GCF_000371685.1_Clos_bolt_90B3_V1_genomic.fna.ffn',\n",
       " 'outputs/gather_matches_loso_prokka/GCF_000508885.1_ASM50888v1_genomic.fna.ffn',\n",
       " 'outputs/gather_matches_loso_prokka/GCF_001405615.1_13414_6_47_genomic.fna.ffn',\n",
       " 'outputs/gather_matches_loso_prokka/GCF_900036035.1_RGNV35913_genomic.fna.ffn',\n",
       " 'outputs/gather_matches_loso_prokka/LeChatelierE_2013__MH0074__bin.19.fa.ffn',\n",
       " 'outputs/gather_matches_loso_prokka/LiJ_2014__O2.UC28-1__bin.61.fa.ffn',\n",
       " 'outputs/gather_matches_loso_prokka/LiSS_2016__FAT_DON_8-22-0-0__bin.28.fa.ffn',\n",
       " 'outputs/gather_matches_loso_prokka/LoombaR_2017__SID1050_bax__bin.11.fa.ffn',\n",
       " 'outputs/gather_matches_loso_prokka/NielsenHB_2014__MH0094__bin.44.fa.ffn',\n",
       " 'outputs/gather_matches_loso_prokka/QinJ_2012__CON-091__bin.20.fa.ffn',\n",
       " 'outputs/gather_matches_loso_prokka/SRR4305229_bin.5.fa.ffn',\n",
       " 'outputs/gather_matches_loso_prokka/SRR5127401_bin.3.fa.ffn',\n",
       " 'outputs/gather_matches_loso_prokka/SRR5558047_bin.10.fa.ffn',\n",
       " 'outputs/gather_matches_loso_prokka/SRR6028281_bin.3.fa.ffn',\n",
       " 'outputs/gather_matches_loso_prokka/SRS075078_49.fna.ffn',\n",
       " 'outputs/gather_matches_loso_prokka/SRS103987_37.fna.ffn',\n",
       " 'outputs/gather_matches_loso_prokka/SRS104400_110.fna.ffn',\n",
       " 'outputs/gather_matches_loso_prokka/SRS143598_15.fna.ffn',\n",
       " 'outputs/gather_matches_loso_prokka/SRS1719112_8.fna.ffn',\n",
       " 'outputs/gather_matches_loso_prokka/SRS1719498_9.fna.ffn',\n",
       " 'outputs/gather_matches_loso_prokka/SRS1719577_6.fna.ffn',\n",
       " 'outputs/gather_matches_loso_prokka/SRS1735506_4.fna.ffn',\n",
       " 'outputs/gather_matches_loso_prokka/SRS1735645_19.fna.ffn',\n",
       " 'outputs/gather_matches_loso_prokka/SRS294916_20.fna.ffn',\n",
       " 'outputs/gather_matches_loso_prokka/SRS476209_42.fna.ffn',\n",
       " 'outputs/gather_matches_loso_prokka/VatanenT_2016__G80445__bin.9.fa.ffn',\n",
       " 'outputs/gather_matches_loso_prokka/VogtmannE_2016__MMRS43563715ST-27-0-0__bin.70.fa.ffn',\n",
       " 'outputs/gather_matches_loso_prokka/XieH_2016__YSZC12003_37172__bin.63.fa.ffn',\n",
       " 'outputs/gather_matches_loso_prokka/ZeeviD_2015__PNP_Main_232__bin.27.fa.ffn']"
      ]
     },
     "execution_count": 9,
     "metadata": {},
     "output_type": "execute_result"
    }
   ],
   "source": [
    "paths2"
   ]
  },
  {
   "cell_type": "code",
   "execution_count": 10,
   "metadata": {},
   "outputs": [],
   "source": [
    "for library in LIBRARIES:\n",
    "    yml = {'catlas_base': library,\n",
    "           'input_sequences': ['outputs/abundtrim/' + library + '.abundtrim.fq.gz'],\n",
    "           'ksize': 31, \n",
    "           'radius': 1,\n",
    "           'search': paths,\n",
    "           'searchquick': paths[0],\n",
    "          \n",
    "           'multifasta_reference': paths2,\n",
    "           'multifasta_scaled': 2000,\n",
    "           'multifasta_query_sig': 'outputs/vita_rf/at_least_5_studies_vita_vars.sig'}\n",
    "    with io.open(\"../inputs/sgc_conf/\" + library + '_r1_multifasta_conf.yml', 'w', encoding='utf8') as outfile:\n",
    "        yaml.dump(yml, outfile, default_flow_style=False, allow_unicode=True, sort_keys=False)"
   ]
  }
 ],
 "metadata": {
  "kernelspec": {
   "display_name": "Python 3",
   "language": "python",
   "name": "python3"
  },
  "language_info": {
   "codemirror_mode": {
    "name": "ipython",
    "version": 3
   },
   "file_extension": ".py",
   "mimetype": "text/x-python",
   "name": "python",
   "nbconvert_exporter": "python",
   "pygments_lexer": "ipython3",
   "version": "3.7.3"
  }
 },
 "nbformat": 4,
 "nbformat_minor": 2
}
