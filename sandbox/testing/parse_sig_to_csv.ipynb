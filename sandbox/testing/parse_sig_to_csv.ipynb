{
 "cells": [
  {
   "cell_type": "markdown",
   "metadata": {},
   "source": [
    "The goal of this notebook is to parse sourmash signatures with abundance information and hashes into a dataframe with hashes in one column and abundance info in another column. \n",
    "\n",
    "These df's will be used to perform random forests in R. As such, the colnames of the abund info will be the sample name."
   ]
  },
  {
   "cell_type": "code",
   "execution_count": 38,
   "metadata": {},
   "outputs": [],
   "source": [
    "from sourmash import signature\n",
    "import pandas as pd\n",
    "import os"
   ]
  },
  {
   "cell_type": "code",
   "execution_count": 27,
   "metadata": {},
   "outputs": [],
   "source": [
    "# extract hashes\n",
    "file = \"../outputs/mgx_sigs/MSM5LLDA_mgx.scaled2k.sig\"\n",
    "sigfp = open(file, 'rt')\n",
    "siglist = list(signature.load_signatures(sigfp))\n",
    "loaded_sig = siglist[0]\n",
    "\n",
    "# Get the minhashes and abundances as dictionary\n",
    "mins = loaded_sig.minhash.get_mins(with_abundance = True)"
   ]
  },
  {
   "cell_type": "code",
   "execution_count": 28,
   "metadata": {},
   "outputs": [
    {
     "data": {
      "text/plain": [
       "dict"
      ]
     },
     "execution_count": 28,
     "metadata": {},
     "output_type": "execute_result"
    }
   ],
   "source": [
    "type(mins)"
   ]
  },
  {
   "cell_type": "code",
   "execution_count": 45,
   "metadata": {},
   "outputs": [],
   "source": [
    "# extract abundance information\n",
    "df = pd.DataFrame.from_dict(mins, orient = 'index',  columns=[os.path.basename(file)])"
   ]
  },
  {
   "cell_type": "code",
   "execution_count": 44,
   "metadata": {},
   "outputs": [
    {
     "data": {
      "text/html": [
       "<div>\n",
       "<style scoped>\n",
       "    .dataframe tbody tr th:only-of-type {\n",
       "        vertical-align: middle;\n",
       "    }\n",
       "\n",
       "    .dataframe tbody tr th {\n",
       "        vertical-align: top;\n",
       "    }\n",
       "\n",
       "    .dataframe thead th {\n",
       "        text-align: right;\n",
       "    }\n",
       "</style>\n",
       "<table border=\"1\" class=\"dataframe\">\n",
       "  <thead>\n",
       "    <tr style=\"text-align: right;\">\n",
       "      <th></th>\n",
       "      <th>minhash</th>\n",
       "      <th>MSM5LLDA_mgx.scaled2k.sig</th>\n",
       "    </tr>\n",
       "  </thead>\n",
       "  <tbody>\n",
       "    <tr>\n",
       "      <th>0</th>\n",
       "      <td>22945346353</td>\n",
       "      <td>11</td>\n",
       "    </tr>\n",
       "    <tr>\n",
       "      <th>1</th>\n",
       "      <td>30516258945</td>\n",
       "      <td>2</td>\n",
       "    </tr>\n",
       "    <tr>\n",
       "      <th>2</th>\n",
       "      <td>64547638983</td>\n",
       "      <td>1</td>\n",
       "    </tr>\n",
       "    <tr>\n",
       "      <th>3</th>\n",
       "      <td>225259879885</td>\n",
       "      <td>10</td>\n",
       "    </tr>\n",
       "    <tr>\n",
       "      <th>4</th>\n",
       "      <td>248713993965</td>\n",
       "      <td>2</td>\n",
       "    </tr>\n",
       "  </tbody>\n",
       "</table>\n",
       "</div>"
      ],
      "text/plain": [
       "        minhash  MSM5LLDA_mgx.scaled2k.sig\n",
       "0   22945346353                         11\n",
       "1   30516258945                          2\n",
       "2   64547638983                          1\n",
       "3  225259879885                         10\n",
       "4  248713993965                          2"
      ]
     },
     "execution_count": 44,
     "metadata": {},
     "output_type": "execute_result"
    }
   ],
   "source": [
    "df.head()"
   ]
  },
  {
   "cell_type": "code",
   "execution_count": 46,
   "metadata": {},
   "outputs": [],
   "source": [
    "df.to_csv(\"tmp.csv\", index_label= \"minhash\")"
   ]
  },
  {
   "cell_type": "code",
   "execution_count": null,
   "metadata": {},
   "outputs": [],
   "source": [
    "#!/usr/bin/env python3\n",
    "\"\"\"\n",
    "Given a sourmash signature, extract the minhash integers to a new text file.\n",
    "\"\"\"\n",
    "\n",
    "from sourmash import signature\n",
    "import pandas as pd\n",
    "import os\n",
    "import sys\n",
    "import argparse\n",
    "\n",
    "def main():\n",
    "    p = argparse.ArgumentParser()\n",
    "    p.add_argument('signature')       # sourmash signature\n",
    "    p.add_argument('output')          # output csv file name\n",
    "    args = p.parse_args()\n",
    "\n",
    "    # load the signature from disk\n",
    "    sigfp = open(args.signature, 'rt')\n",
    "    siglist = list(signature.load_signatures(sigfp))\n",
    "    loaded_sig = siglist[0]\n",
    "\n",
    "    # Get the minhashes\n",
    "    mins = loaded_sig.minhash.get_mins(with_abundance = True)\n",
    "    \n",
    "    name = os.path.basename(args.signature)\n",
    "    df = pd.DataFrame.from_dict(mins, orient = 'index', columns=[name])\n",
    "    \n",
    "    # write to a csv\n",
    "    df.to_csv(output, index_label= \"minhash\")\n",
    "\n",
    "if __name__ == '__main__':\n",
    "    sys.exit(main())"
   ]
  }
 ],
 "metadata": {
  "kernelspec": {
   "display_name": "Python 3",
   "language": "python",
   "name": "python3"
  },
  "language_info": {
   "codemirror_mode": {
    "name": "ipython",
    "version": 3
   },
   "file_extension": ".py",
   "mimetype": "text/x-python",
   "name": "python",
   "nbconvert_exporter": "python",
   "pygments_lexer": "ipython3",
   "version": "3.7.2"
  }
 },
 "nbformat": 4,
 "nbformat_minor": 2
}
