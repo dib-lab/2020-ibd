{
 "cells": [
  {
   "cell_type": "markdown",
   "metadata": {},
   "source": [
    "Determine the number of hashes, the number of unique hashes, and the number of hashes that occur once across 954 IBD/control gut metagenomes (excludes the iHMP). Calculated for a scaled of 2k. 2 million hashes is the current approximate upper limit with which to build a sample vs hash abundance table using my current methods."
   ]
  },
  {
   "cell_type": "code",
   "execution_count": 1,
   "metadata": {},
   "outputs": [],
   "source": [
    "from sourmash import signature\n",
    "import glob\n",
    "import os\n",
    "from collections import Counter"
   ]
  },
  {
   "cell_type": "code",
   "execution_count": 2,
   "metadata": {},
   "outputs": [],
   "source": [
    "files = glob.glob(\"../outputs/sigs/*sig\")"
   ]
  },
  {
   "cell_type": "code",
   "execution_count": 3,
   "metadata": {},
   "outputs": [],
   "source": [
    "all_mins = []\n",
    "for file in files:\n",
    "    if os.path.getsize(file) > 0:\n",
    "        sigfp = open(file, 'rt')\n",
    "        siglist = list(signature.load_signatures(sigfp))\n",
    "        loaded_sig = siglist[1]\n",
    "        mins = loaded_sig.minhash.get_mins() # Get the minhashes \n",
    "        all_mins += mins"
   ]
  },
  {
   "cell_type": "code",
   "execution_count": 4,
   "metadata": {},
   "outputs": [
    {
     "data": {
      "text/plain": [
       "152441250"
      ]
     },
     "execution_count": 4,
     "metadata": {},
     "output_type": "execute_result"
    }
   ],
   "source": [
    "# how many total hashes observed\n",
    "len(all_mins)"
   ]
  },
  {
   "cell_type": "code",
   "execution_count": 5,
   "metadata": {},
   "outputs": [
    {
     "data": {
      "text/plain": [
       "57479783"
      ]
     },
     "execution_count": 5,
     "metadata": {},
     "output_type": "execute_result"
    }
   ],
   "source": [
    "# how many distinct hashes observed\n",
    "len(set(all_mins))"
   ]
  },
  {
   "cell_type": "code",
   "execution_count": 6,
   "metadata": {},
   "outputs": [],
   "source": [
    "# tally the number of hashes\n",
    "counts = Counter(all_mins)"
   ]
  },
  {
   "cell_type": "code",
   "execution_count": 7,
   "metadata": {
    "scrolled": true
   },
   "outputs": [
    {
     "data": {
      "text/plain": [
       "[(669202649185700, 944),\n",
       " (8505110923811886, 902),\n",
       " (3815801107549621, 886),\n",
       " (1747487891074788, 882),\n",
       " (4878174045812148, 872),\n",
       " (903252061588912, 867),\n",
       " (8397487649764623, 865),\n",
       " (5654977085815951, 861),\n",
       " (4051452494845912, 860),\n",
       " (2981795418242910, 860)]"
      ]
     },
     "execution_count": 7,
     "metadata": {},
     "output_type": "execute_result"
    }
   ],
   "source": [
    "# look at the most common hashes\n",
    "counts.most_common(10)"
   ]
  },
  {
   "cell_type": "code",
   "execution_count": 8,
   "metadata": {},
   "outputs": [
    {
     "data": {
      "text/plain": [
       "57479783"
      ]
     },
     "execution_count": 8,
     "metadata": {},
     "output_type": "execute_result"
    }
   ],
   "source": [
    "# check that distinct hashes is the same as set\n",
    "len(counts.keys())"
   ]
  },
  {
   "cell_type": "code",
   "execution_count": 9,
   "metadata": {},
   "outputs": [],
   "source": [
    "# remove hashes that occur only once\n",
    "for hashes, cnts in counts.copy().items():\n",
    "    if cnts < 2:\n",
    "        counts.pop(hashes)"
   ]
  },
  {
   "cell_type": "code",
   "execution_count": 10,
   "metadata": {},
   "outputs": [
    {
     "data": {
      "text/plain": [
       "9334204"
      ]
     },
     "execution_count": 10,
     "metadata": {},
     "output_type": "execute_result"
    }
   ],
   "source": [
    "# see length after removing singleton hashes\n",
    "len(counts.keys())"
   ]
  },
  {
   "cell_type": "code",
   "execution_count": 11,
   "metadata": {},
   "outputs": [],
   "source": [
    "# generate a file with hashes that only occur once across all data sets. \n",
    "# These hashes will be removed from each signature to make building the\n",
    "# hash table computationally tractable.\n",
    "counts = Counter(all_mins)\n",
    "for hashes, cnts in counts.copy().items():\n",
    "    if cnts > 1:\n",
    "        counts.pop(hashes)"
   ]
  },
  {
   "cell_type": "code",
   "execution_count": 12,
   "metadata": {},
   "outputs": [
    {
     "data": {
      "text/plain": [
       "48145579"
      ]
     },
     "execution_count": 12,
     "metadata": {},
     "output_type": "execute_result"
    }
   ],
   "source": [
    "len(counts.keys())"
   ]
  },
  {
   "cell_type": "code",
   "execution_count": 13,
   "metadata": {},
   "outputs": [],
   "source": [
    "with open(\"low_cnt_filt_sigs/low_count_hashes.txt\", \"w\") as f:\n",
    "    for key in counts:\n",
    "        print(key, file=f)"
   ]
  }
 ],
 "metadata": {
  "kernelspec": {
   "display_name": "Python 3",
   "language": "python",
   "name": "python3"
  },
  "language_info": {
   "codemirror_mode": {
    "name": "ipython",
    "version": 3
   },
   "file_extension": ".py",
   "mimetype": "text/x-python",
   "name": "python",
   "nbconvert_exporter": "python",
   "pygments_lexer": "ipython3",
   "version": "3.7.2"
  }
 },
 "nbformat": 4,
 "nbformat_minor": 2
}
