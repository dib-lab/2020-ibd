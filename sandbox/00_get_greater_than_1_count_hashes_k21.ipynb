{
 "cells": [
  {
   "cell_type": "markdown",
   "metadata": {},
   "source": [
    "Determine the number of hashes, the number of unique hashes, and the number of hashes that occur once across 954 IBD/control gut metagenomes (excludes the iHMP). Calculated for a scaled of 2k. 2 million hashes is the current approximate upper limit with which to build a sample vs hash abundance table using my current methods."
   ]
  },
  {
   "cell_type": "code",
   "execution_count": 1,
   "metadata": {},
   "outputs": [],
   "source": [
    "from sourmash import signature\n",
    "import glob\n",
    "import os\n",
    "from collections import Counter"
   ]
  },
  {
   "cell_type": "code",
   "execution_count": 2,
   "metadata": {},
   "outputs": [],
   "source": [
    "files = glob.glob(\"../outputs/sigs/*sig\")"
   ]
  },
  {
   "cell_type": "code",
   "execution_count": 3,
   "metadata": {},
   "outputs": [],
   "source": [
    "all_mins = []\n",
    "for file in files:\n",
    "    if os.path.getsize(file) > 0:\n",
    "        sigfp = open(file, 'rt')\n",
    "        siglist = list(signature.load_signatures(sigfp))\n",
    "        loaded_sig = siglist[0]\n",
    "        mins = loaded_sig.minhash.get_mins() # Get the minhashes \n",
    "        all_mins += mins"
   ]
  },
  {
   "cell_type": "code",
   "execution_count": 4,
   "metadata": {},
   "outputs": [],
   "source": [
    "# tally the number of hashes\n",
    "counts = Counter(all_mins)"
   ]
  },
  {
   "cell_type": "code",
   "execution_count": 5,
   "metadata": {
    "scrolled": true
   },
   "outputs": [
    {
     "data": {
      "text/plain": [
       "[(980192377581737, 950),\n",
       " (4019871117729522, 935),\n",
       " (5753720789616923, 910),\n",
       " (7181963414440070, 900),\n",
       " (8111225307469574, 892),\n",
       " (1456541103433267, 891),\n",
       " (1427970556619490, 885),\n",
       " (1052451370566149, 880),\n",
       " (7978880743887870, 879),\n",
       " (6077100822195233, 877)]"
      ]
     },
     "execution_count": 5,
     "metadata": {},
     "output_type": "execute_result"
    }
   ],
   "source": [
    "# look at the most common hashes\n",
    "counts.most_common(10)"
   ]
  },
  {
   "cell_type": "code",
   "execution_count": 6,
   "metadata": {},
   "outputs": [
    {
     "data": {
      "text/plain": [
       "45458211"
      ]
     },
     "execution_count": 6,
     "metadata": {},
     "output_type": "execute_result"
    }
   ],
   "source": [
    "# check that distinct hashes is the same as set\n",
    "len(counts.keys())"
   ]
  },
  {
   "cell_type": "code",
   "execution_count": 7,
   "metadata": {},
   "outputs": [],
   "source": [
    "# remove hashes that occur only once\n",
    "for hashes, cnts in counts.copy().items():\n",
    "    if cnts < 2:\n",
    "        counts.pop(hashes)"
   ]
  },
  {
   "cell_type": "code",
   "execution_count": 10,
   "metadata": {},
   "outputs": [
    {
     "data": {
      "text/plain": [
       "11141470"
      ]
     },
     "execution_count": 10,
     "metadata": {},
     "output_type": "execute_result"
    }
   ],
   "source": [
    "# see length after removing singleton hashes\n",
    "len(counts.keys())"
   ]
  },
  {
   "cell_type": "code",
   "execution_count": 9,
   "metadata": {},
   "outputs": [],
   "source": [
    "with open(\"greater_than_one_count_hashes_k21.txt\", \"w\") as f:\n",
    "    for key in counts:\n",
    "        print(key, file=f)"
   ]
  }
 ],
 "metadata": {
  "kernelspec": {
   "display_name": "Python 3",
   "language": "python",
   "name": "python3"
  },
  "language_info": {
   "codemirror_mode": {
    "name": "ipython",
    "version": 3
   },
   "file_extension": ".py",
   "mimetype": "text/x-python",
   "name": "python",
   "nbconvert_exporter": "python",
   "pygments_lexer": "ipython3",
   "version": "3.7.2"
  }
 },
 "nbformat": 4,
 "nbformat_minor": 2
}
