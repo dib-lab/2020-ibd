{
 "cells": [
  {
   "cell_type": "markdown",
   "id": "b588a004",
   "metadata": {},
   "source": [
    "This notebook counts the number of dominating set pieces that had the same annotation in piecese that were more abundant and pieces that were less abundant. It relies on the output of `rule summarize_function_and_enrichment_on_dominating_set_differential_abundance_analysis_results`."
   ]
  },
  {
   "cell_type": "code",
   "execution_count": 1,
   "id": "37ef888f",
   "metadata": {},
   "outputs": [],
   "source": [
    "setwd(\"..\")"
   ]
  },
  {
   "cell_type": "code",
   "execution_count": 3,
   "id": "d9bae0bb",
   "metadata": {},
   "outputs": [],
   "source": [
    "library(dplyr)\n",
    "library(purrr)\n",
    "library(readr)"
   ]
  },
  {
   "cell_type": "code",
   "execution_count": 4,
   "id": "f6505e47",
   "metadata": {},
   "outputs": [],
   "source": [
    "overlapping_kos <- Sys.glob(\"outputs/sgc_pangenome_catlases_corncob_annotation_analysis/*_overlap_kos_df.tsv\") %>%\n",
    "  map_dfr(read_tsv, show_col_type = F)"
   ]
  },
  {
   "cell_type": "code",
   "execution_count": 13,
   "id": "0b42a4e6",
   "metadata": {},
   "outputs": [
    {
     "data": {
      "text/html": [
       "<table class=\"dataframe\">\n",
       "<caption>A tibble: 6 × 36</caption>\n",
       "<thead>\n",
       "\t<tr><th scope=col>mu</th><th scope=col>estimate</th><th scope=col>standard_error</th><th scope=col>t_value</th><th scope=col>p_value</th><th scope=col>dom_id</th><th scope=col>separation_in_abund_model</th><th scope=col>bonferroni</th><th scope=col>filename</th><th scope=col>record_name</th><th scope=col>⋯</th><th scope=col>KEGG_Reaction</th><th scope=col>KEGG_rclass</th><th scope=col>BRITE</th><th scope=col>KEGG_TC</th><th scope=col>CAZy</th><th scope=col>BiGG_Reaction</th><th scope=col>PFAMs</th><th scope=col>level</th><th scope=col>size</th><th scope=col>species</th></tr>\n",
       "\t<tr><th scope=col>&lt;chr&gt;</th><th scope=col>&lt;dbl&gt;</th><th scope=col>&lt;dbl&gt;</th><th scope=col>&lt;dbl&gt;</th><th scope=col>&lt;dbl&gt;</th><th scope=col>&lt;dbl&gt;</th><th scope=col>&lt;chr&gt;</th><th scope=col>&lt;dbl&gt;</th><th scope=col>&lt;chr&gt;</th><th scope=col>&lt;chr&gt;</th><th scope=col>⋯</th><th scope=col>&lt;chr&gt;</th><th scope=col>&lt;chr&gt;</th><th scope=col>&lt;chr&gt;</th><th scope=col>&lt;chr&gt;</th><th scope=col>&lt;chr&gt;</th><th scope=col>&lt;chr&gt;</th><th scope=col>&lt;chr&gt;</th><th scope=col>&lt;dbl&gt;</th><th scope=col>&lt;dbl&gt;</th><th scope=col>&lt;chr&gt;</th></tr>\n",
       "</thead>\n",
       "<tbody>\n",
       "\t<tr><td>mu.diagnosisCD</td><td>-0.5882757</td><td>0.11022239</td><td>-5.337170</td><td>1.343616e-07</td><td>  43</td><td>none</td><td>3.698572e-03</td><td>/home/tereiter/github/2022-annotate-species-catlas/outputs/gtdb_genomes_annotated_comb/s__Enterocloster-clostridioformis_A_clustered_annotated_seqs.fa</td><td>GCF_000424325.1_05285 Tyrosine--tRNA ligase                   </td><td>⋯</td><td>R02918                            </td><td>RC00055,RC00523                                </td><td>ko00000,ko00001,ko00002,ko01000,ko01007,ko03016,ko03029</td><td>-</td><td>-</td><td>-</td><td>S4,tRNA-synt_1b                           </td><td>1</td><td>1846</td><td>s__Enterocloster-clostridioformis_A</td></tr>\n",
       "\t<tr><td>mu.diagnosisCD</td><td>-0.7083696</td><td>0.10239117</td><td>-6.918269</td><td>1.182935e-11</td><td> 371</td><td>none</td><td>3.256265e-07</td><td>/home/tereiter/github/2022-annotate-species-catlas/outputs/gtdb_genomes_annotated_comb/s__Enterocloster-clostridioformis_A_clustered_annotated_seqs.fa</td><td>GCF_000424325.1_09215 DNA (cytosine-5-)-methyltransferase     </td><td>⋯</td><td>R04858                            </td><td>RC00003,RC00332                                </td><td>ko00000,ko00001,ko00002,ko01000,ko02048,ko03032,ko03036</td><td>-</td><td>-</td><td>-</td><td>DNA_methylase                             </td><td>1</td><td> 374</td><td>s__Enterocloster-clostridioformis_A</td></tr>\n",
       "\t<tr><td>mu.diagnosisCD</td><td>-0.8234765</td><td>0.16118018</td><td>-5.109043</td><td>4.365637e-07</td><td>1829</td><td>none</td><td>1.201729e-02</td><td>/home/tereiter/github/2022-annotate-species-catlas/outputs/gtdb_genomes_annotated_comb/s__Enterocloster-clostridioformis_A_clustered_annotated_seqs.fa</td><td>GCF_000424325.1_05755 Carbamoyl-phosphate synthase large chain</td><td>⋯</td><td>R00256,R00575,R01395,R10948,R10949</td><td>RC00002,RC00010,RC00043,RC02750,RC02798,RC03314</td><td>ko00000,ko00001,ko00002,ko01000                        </td><td>-</td><td>-</td><td>-</td><td>CPSase_L_D2,CPSase_L_D3,DAP_epimerase,MGS </td><td>1</td><td> 463</td><td>s__Enterocloster-clostridioformis_A</td></tr>\n",
       "\t<tr><td>mu.diagnosisCD</td><td>-0.7272583</td><td>0.10020532</td><td>-7.257681</td><td>1.233080e-12</td><td>2070</td><td>none</td><td>3.394299e-08</td><td>/home/tereiter/github/2022-annotate-species-catlas/outputs/gtdb_genomes_annotated_comb/s__Enterocloster-clostridioformis_A_clustered_annotated_seqs.fa</td><td>GCF_000424325.1_09215 DNA (cytosine-5-)-methyltransferase     </td><td>⋯</td><td>R04858                            </td><td>RC00003,RC00332                                </td><td>ko00000,ko00001,ko00002,ko01000,ko02048,ko03032,ko03036</td><td>-</td><td>-</td><td>-</td><td>DNA_methylase                             </td><td>1</td><td> 449</td><td>s__Enterocloster-clostridioformis_A</td></tr>\n",
       "\t<tr><td>mu.diagnosisCD</td><td>-0.7367168</td><td>0.09866796</td><td>-7.466627</td><td>2.935883e-13</td><td>2362</td><td>none</td><td>8.081606e-09</td><td>/home/tereiter/github/2022-annotate-species-catlas/outputs/gtdb_genomes_annotated_comb/s__Enterocloster-clostridioformis_A_clustered_annotated_seqs.fa</td><td>GCF_000424325.1_09215 DNA (cytosine-5-)-methyltransferase     </td><td>⋯</td><td>R04858                            </td><td>RC00003,RC00332                                </td><td>ko00000,ko00001,ko00002,ko01000,ko02048,ko03032,ko03036</td><td>-</td><td>-</td><td>-</td><td>DNA_methylase                             </td><td>1</td><td> 511</td><td>s__Enterocloster-clostridioformis_A</td></tr>\n",
       "\t<tr><td>mu.diagnosisCD</td><td> 1.3505554</td><td>0.18982991</td><td> 7.114555</td><td>3.233759e-12</td><td>2487</td><td>none</td><td>8.901568e-08</td><td>/home/tereiter/github/2022-annotate-species-catlas/outputs/gtdb_genomes_annotated_comb/s__Enterocloster-clostridioformis_A_clustered_annotated_seqs.fa</td><td>GCF_000424325.1_11080 Phosphoribosyl pyrophosphate synthase   </td><td>⋯</td><td>R01049                            </td><td>RC00002,RC00078                                </td><td>ko00000,ko00001,ko00002,ko01000                        </td><td>-</td><td>-</td><td>-</td><td>Pribosyl_synth,Pribosyltran,Pribosyltran_N</td><td>1</td><td>1369</td><td>s__Enterocloster-clostridioformis_A</td></tr>\n",
       "</tbody>\n",
       "</table>\n"
      ],
      "text/latex": [
       "A tibble: 6 × 36\n",
       "\\begin{tabular}{lllllllllllllllllllll}\n",
       " mu & estimate & standard\\_error & t\\_value & p\\_value & dom\\_id & separation\\_in\\_abund\\_model & bonferroni & filename & record\\_name & ⋯ & KEGG\\_Reaction & KEGG\\_rclass & BRITE & KEGG\\_TC & CAZy & BiGG\\_Reaction & PFAMs & level & size & species\\\\\n",
       " <chr> & <dbl> & <dbl> & <dbl> & <dbl> & <dbl> & <chr> & <dbl> & <chr> & <chr> & ⋯ & <chr> & <chr> & <chr> & <chr> & <chr> & <chr> & <chr> & <dbl> & <dbl> & <chr>\\\\\n",
       "\\hline\n",
       "\t mu.diagnosisCD & -0.5882757 & 0.11022239 & -5.337170 & 1.343616e-07 &   43 & none & 3.698572e-03 & /home/tereiter/github/2022-annotate-species-catlas/outputs/gtdb\\_genomes\\_annotated\\_comb/s\\_\\_Enterocloster-clostridioformis\\_A\\_clustered\\_annotated\\_seqs.fa & GCF\\_000424325.1\\_05285 Tyrosine--tRNA ligase                    & ⋯ & R02918                             & RC00055,RC00523                                 & ko00000,ko00001,ko00002,ko01000,ko01007,ko03016,ko03029 & - & - & - & S4,tRNA-synt\\_1b                            & 1 & 1846 & s\\_\\_Enterocloster-clostridioformis\\_A\\\\\n",
       "\t mu.diagnosisCD & -0.7083696 & 0.10239117 & -6.918269 & 1.182935e-11 &  371 & none & 3.256265e-07 & /home/tereiter/github/2022-annotate-species-catlas/outputs/gtdb\\_genomes\\_annotated\\_comb/s\\_\\_Enterocloster-clostridioformis\\_A\\_clustered\\_annotated\\_seqs.fa & GCF\\_000424325.1\\_09215 DNA (cytosine-5-)-methyltransferase      & ⋯ & R04858                             & RC00003,RC00332                                 & ko00000,ko00001,ko00002,ko01000,ko02048,ko03032,ko03036 & - & - & - & DNA\\_methylase                              & 1 &  374 & s\\_\\_Enterocloster-clostridioformis\\_A\\\\\n",
       "\t mu.diagnosisCD & -0.8234765 & 0.16118018 & -5.109043 & 4.365637e-07 & 1829 & none & 1.201729e-02 & /home/tereiter/github/2022-annotate-species-catlas/outputs/gtdb\\_genomes\\_annotated\\_comb/s\\_\\_Enterocloster-clostridioformis\\_A\\_clustered\\_annotated\\_seqs.fa & GCF\\_000424325.1\\_05755 Carbamoyl-phosphate synthase large chain & ⋯ & R00256,R00575,R01395,R10948,R10949 & RC00002,RC00010,RC00043,RC02750,RC02798,RC03314 & ko00000,ko00001,ko00002,ko01000                         & - & - & - & CPSase\\_L\\_D2,CPSase\\_L\\_D3,DAP\\_epimerase,MGS  & 1 &  463 & s\\_\\_Enterocloster-clostridioformis\\_A\\\\\n",
       "\t mu.diagnosisCD & -0.7272583 & 0.10020532 & -7.257681 & 1.233080e-12 & 2070 & none & 3.394299e-08 & /home/tereiter/github/2022-annotate-species-catlas/outputs/gtdb\\_genomes\\_annotated\\_comb/s\\_\\_Enterocloster-clostridioformis\\_A\\_clustered\\_annotated\\_seqs.fa & GCF\\_000424325.1\\_09215 DNA (cytosine-5-)-methyltransferase      & ⋯ & R04858                             & RC00003,RC00332                                 & ko00000,ko00001,ko00002,ko01000,ko02048,ko03032,ko03036 & - & - & - & DNA\\_methylase                              & 1 &  449 & s\\_\\_Enterocloster-clostridioformis\\_A\\\\\n",
       "\t mu.diagnosisCD & -0.7367168 & 0.09866796 & -7.466627 & 2.935883e-13 & 2362 & none & 8.081606e-09 & /home/tereiter/github/2022-annotate-species-catlas/outputs/gtdb\\_genomes\\_annotated\\_comb/s\\_\\_Enterocloster-clostridioformis\\_A\\_clustered\\_annotated\\_seqs.fa & GCF\\_000424325.1\\_09215 DNA (cytosine-5-)-methyltransferase      & ⋯ & R04858                             & RC00003,RC00332                                 & ko00000,ko00001,ko00002,ko01000,ko02048,ko03032,ko03036 & - & - & - & DNA\\_methylase                              & 1 &  511 & s\\_\\_Enterocloster-clostridioformis\\_A\\\\\n",
       "\t mu.diagnosisCD &  1.3505554 & 0.18982991 &  7.114555 & 3.233759e-12 & 2487 & none & 8.901568e-08 & /home/tereiter/github/2022-annotate-species-catlas/outputs/gtdb\\_genomes\\_annotated\\_comb/s\\_\\_Enterocloster-clostridioformis\\_A\\_clustered\\_annotated\\_seqs.fa & GCF\\_000424325.1\\_11080 Phosphoribosyl pyrophosphate synthase    & ⋯ & R01049                             & RC00002,RC00078                                 & ko00000,ko00001,ko00002,ko01000                         & - & - & - & Pribosyl\\_synth,Pribosyltran,Pribosyltran\\_N & 1 & 1369 & s\\_\\_Enterocloster-clostridioformis\\_A\\\\\n",
       "\\end{tabular}\n"
      ],
      "text/markdown": [
       "\n",
       "A tibble: 6 × 36\n",
       "\n",
       "| mu &lt;chr&gt; | estimate &lt;dbl&gt; | standard_error &lt;dbl&gt; | t_value &lt;dbl&gt; | p_value &lt;dbl&gt; | dom_id &lt;dbl&gt; | separation_in_abund_model &lt;chr&gt; | bonferroni &lt;dbl&gt; | filename &lt;chr&gt; | record_name &lt;chr&gt; | ⋯ ⋯ | KEGG_Reaction &lt;chr&gt; | KEGG_rclass &lt;chr&gt; | BRITE &lt;chr&gt; | KEGG_TC &lt;chr&gt; | CAZy &lt;chr&gt; | BiGG_Reaction &lt;chr&gt; | PFAMs &lt;chr&gt; | level &lt;dbl&gt; | size &lt;dbl&gt; | species &lt;chr&gt; |\n",
       "|---|---|---|---|---|---|---|---|---|---|---|---|---|---|---|---|---|---|---|---|---|\n",
       "| mu.diagnosisCD | -0.5882757 | 0.11022239 | -5.337170 | 1.343616e-07 |   43 | none | 3.698572e-03 | /home/tereiter/github/2022-annotate-species-catlas/outputs/gtdb_genomes_annotated_comb/s__Enterocloster-clostridioformis_A_clustered_annotated_seqs.fa | GCF_000424325.1_05285 Tyrosine--tRNA ligase                    | ⋯ | R02918                             | RC00055,RC00523                                 | ko00000,ko00001,ko00002,ko01000,ko01007,ko03016,ko03029 | - | - | - | S4,tRNA-synt_1b                            | 1 | 1846 | s__Enterocloster-clostridioformis_A |\n",
       "| mu.diagnosisCD | -0.7083696 | 0.10239117 | -6.918269 | 1.182935e-11 |  371 | none | 3.256265e-07 | /home/tereiter/github/2022-annotate-species-catlas/outputs/gtdb_genomes_annotated_comb/s__Enterocloster-clostridioformis_A_clustered_annotated_seqs.fa | GCF_000424325.1_09215 DNA (cytosine-5-)-methyltransferase      | ⋯ | R04858                             | RC00003,RC00332                                 | ko00000,ko00001,ko00002,ko01000,ko02048,ko03032,ko03036 | - | - | - | DNA_methylase                              | 1 |  374 | s__Enterocloster-clostridioformis_A |\n",
       "| mu.diagnosisCD | -0.8234765 | 0.16118018 | -5.109043 | 4.365637e-07 | 1829 | none | 1.201729e-02 | /home/tereiter/github/2022-annotate-species-catlas/outputs/gtdb_genomes_annotated_comb/s__Enterocloster-clostridioformis_A_clustered_annotated_seqs.fa | GCF_000424325.1_05755 Carbamoyl-phosphate synthase large chain | ⋯ | R00256,R00575,R01395,R10948,R10949 | RC00002,RC00010,RC00043,RC02750,RC02798,RC03314 | ko00000,ko00001,ko00002,ko01000                         | - | - | - | CPSase_L_D2,CPSase_L_D3,DAP_epimerase,MGS  | 1 |  463 | s__Enterocloster-clostridioformis_A |\n",
       "| mu.diagnosisCD | -0.7272583 | 0.10020532 | -7.257681 | 1.233080e-12 | 2070 | none | 3.394299e-08 | /home/tereiter/github/2022-annotate-species-catlas/outputs/gtdb_genomes_annotated_comb/s__Enterocloster-clostridioformis_A_clustered_annotated_seqs.fa | GCF_000424325.1_09215 DNA (cytosine-5-)-methyltransferase      | ⋯ | R04858                             | RC00003,RC00332                                 | ko00000,ko00001,ko00002,ko01000,ko02048,ko03032,ko03036 | - | - | - | DNA_methylase                              | 1 |  449 | s__Enterocloster-clostridioformis_A |\n",
       "| mu.diagnosisCD | -0.7367168 | 0.09866796 | -7.466627 | 2.935883e-13 | 2362 | none | 8.081606e-09 | /home/tereiter/github/2022-annotate-species-catlas/outputs/gtdb_genomes_annotated_comb/s__Enterocloster-clostridioformis_A_clustered_annotated_seqs.fa | GCF_000424325.1_09215 DNA (cytosine-5-)-methyltransferase      | ⋯ | R04858                             | RC00003,RC00332                                 | ko00000,ko00001,ko00002,ko01000,ko02048,ko03032,ko03036 | - | - | - | DNA_methylase                              | 1 |  511 | s__Enterocloster-clostridioformis_A |\n",
       "| mu.diagnosisCD |  1.3505554 | 0.18982991 |  7.114555 | 3.233759e-12 | 2487 | none | 8.901568e-08 | /home/tereiter/github/2022-annotate-species-catlas/outputs/gtdb_genomes_annotated_comb/s__Enterocloster-clostridioformis_A_clustered_annotated_seqs.fa | GCF_000424325.1_11080 Phosphoribosyl pyrophosphate synthase    | ⋯ | R01049                             | RC00002,RC00078                                 | ko00000,ko00001,ko00002,ko01000                         | - | - | - | Pribosyl_synth,Pribosyltran,Pribosyltran_N | 1 | 1369 | s__Enterocloster-clostridioformis_A |\n",
       "\n"
      ],
      "text/plain": [
       "  mu             estimate   standard_error t_value   p_value      dom_id\n",
       "1 mu.diagnosisCD -0.5882757 0.11022239     -5.337170 1.343616e-07   43  \n",
       "2 mu.diagnosisCD -0.7083696 0.10239117     -6.918269 1.182935e-11  371  \n",
       "3 mu.diagnosisCD -0.8234765 0.16118018     -5.109043 4.365637e-07 1829  \n",
       "4 mu.diagnosisCD -0.7272583 0.10020532     -7.257681 1.233080e-12 2070  \n",
       "5 mu.diagnosisCD -0.7367168 0.09866796     -7.466627 2.935883e-13 2362  \n",
       "6 mu.diagnosisCD  1.3505554 0.18982991      7.114555 3.233759e-12 2487  \n",
       "  separation_in_abund_model bonferroni  \n",
       "1 none                      3.698572e-03\n",
       "2 none                      3.256265e-07\n",
       "3 none                      1.201729e-02\n",
       "4 none                      3.394299e-08\n",
       "5 none                      8.081606e-09\n",
       "6 none                      8.901568e-08\n",
       "  filename                                                                                                                                              \n",
       "1 /home/tereiter/github/2022-annotate-species-catlas/outputs/gtdb_genomes_annotated_comb/s__Enterocloster-clostridioformis_A_clustered_annotated_seqs.fa\n",
       "2 /home/tereiter/github/2022-annotate-species-catlas/outputs/gtdb_genomes_annotated_comb/s__Enterocloster-clostridioformis_A_clustered_annotated_seqs.fa\n",
       "3 /home/tereiter/github/2022-annotate-species-catlas/outputs/gtdb_genomes_annotated_comb/s__Enterocloster-clostridioformis_A_clustered_annotated_seqs.fa\n",
       "4 /home/tereiter/github/2022-annotate-species-catlas/outputs/gtdb_genomes_annotated_comb/s__Enterocloster-clostridioformis_A_clustered_annotated_seqs.fa\n",
       "5 /home/tereiter/github/2022-annotate-species-catlas/outputs/gtdb_genomes_annotated_comb/s__Enterocloster-clostridioformis_A_clustered_annotated_seqs.fa\n",
       "6 /home/tereiter/github/2022-annotate-species-catlas/outputs/gtdb_genomes_annotated_comb/s__Enterocloster-clostridioformis_A_clustered_annotated_seqs.fa\n",
       "  record_name                                                    ⋯\n",
       "1 GCF_000424325.1_05285 Tyrosine--tRNA ligase                    ⋯\n",
       "2 GCF_000424325.1_09215 DNA (cytosine-5-)-methyltransferase      ⋯\n",
       "3 GCF_000424325.1_05755 Carbamoyl-phosphate synthase large chain ⋯\n",
       "4 GCF_000424325.1_09215 DNA (cytosine-5-)-methyltransferase      ⋯\n",
       "5 GCF_000424325.1_09215 DNA (cytosine-5-)-methyltransferase      ⋯\n",
       "6 GCF_000424325.1_11080 Phosphoribosyl pyrophosphate synthase    ⋯\n",
       "  KEGG_Reaction                     \n",
       "1 R02918                            \n",
       "2 R04858                            \n",
       "3 R00256,R00575,R01395,R10948,R10949\n",
       "4 R04858                            \n",
       "5 R04858                            \n",
       "6 R01049                            \n",
       "  KEGG_rclass                                    \n",
       "1 RC00055,RC00523                                \n",
       "2 RC00003,RC00332                                \n",
       "3 RC00002,RC00010,RC00043,RC02750,RC02798,RC03314\n",
       "4 RC00003,RC00332                                \n",
       "5 RC00003,RC00332                                \n",
       "6 RC00002,RC00078                                \n",
       "  BRITE                                                   KEGG_TC CAZy\n",
       "1 ko00000,ko00001,ko00002,ko01000,ko01007,ko03016,ko03029 -       -   \n",
       "2 ko00000,ko00001,ko00002,ko01000,ko02048,ko03032,ko03036 -       -   \n",
       "3 ko00000,ko00001,ko00002,ko01000                         -       -   \n",
       "4 ko00000,ko00001,ko00002,ko01000,ko02048,ko03032,ko03036 -       -   \n",
       "5 ko00000,ko00001,ko00002,ko01000,ko02048,ko03032,ko03036 -       -   \n",
       "6 ko00000,ko00001,ko00002,ko01000                         -       -   \n",
       "  BiGG_Reaction PFAMs                                      level size\n",
       "1 -             S4,tRNA-synt_1b                            1     1846\n",
       "2 -             DNA_methylase                              1      374\n",
       "3 -             CPSase_L_D2,CPSase_L_D3,DAP_epimerase,MGS  1      463\n",
       "4 -             DNA_methylase                              1      449\n",
       "5 -             DNA_methylase                              1      511\n",
       "6 -             Pribosyl_synth,Pribosyltran,Pribosyltran_N 1     1369\n",
       "  species                            \n",
       "1 s__Enterocloster-clostridioformis_A\n",
       "2 s__Enterocloster-clostridioformis_A\n",
       "3 s__Enterocloster-clostridioformis_A\n",
       "4 s__Enterocloster-clostridioformis_A\n",
       "5 s__Enterocloster-clostridioformis_A\n",
       "6 s__Enterocloster-clostridioformis_A"
      ]
     },
     "metadata": {},
     "output_type": "display_data"
    }
   ],
   "source": [
    "head(overlapping_kos)"
   ]
  },
  {
   "cell_type": "code",
   "execution_count": 9,
   "id": "88d43e65",
   "metadata": {},
   "outputs": [
    {
     "data": {
      "text/html": [
       "<table class=\"dataframe\">\n",
       "<caption>A tibble: 1 × 2</caption>\n",
       "<thead>\n",
       "\t<tr><th scope=col>mean_n</th><th scope=col>sd_d</th></tr>\n",
       "\t<tr><th scope=col>&lt;dbl&gt;</th><th scope=col>&lt;dbl&gt;</th></tr>\n",
       "</thead>\n",
       "<tbody>\n",
       "\t<tr><td>1453.8</td><td>727.1934</td></tr>\n",
       "</tbody>\n",
       "</table>\n"
      ],
      "text/latex": [
       "A tibble: 1 × 2\n",
       "\\begin{tabular}{ll}\n",
       " mean\\_n & sd\\_d\\\\\n",
       " <dbl> & <dbl>\\\\\n",
       "\\hline\n",
       "\t 1453.8 & 727.1934\\\\\n",
       "\\end{tabular}\n"
      ],
      "text/markdown": [
       "\n",
       "A tibble: 1 × 2\n",
       "\n",
       "| mean_n &lt;dbl&gt; | sd_d &lt;dbl&gt; |\n",
       "|---|---|\n",
       "| 1453.8 | 727.1934 |\n",
       "\n"
      ],
      "text/plain": [
       "  mean_n sd_d    \n",
       "1 1453.8 727.1934"
      ]
     },
     "metadata": {},
     "output_type": "display_data"
    }
   ],
   "source": [
    "# estimate the number of catlas pieces that had overlapping annotations \n",
    "overlapping_kos %>% group_by(species) %>% tally() %>% summarize(mean_n = mean(n), sd_d = sd(n))"
   ]
  },
  {
   "cell_type": "code",
   "execution_count": 12,
   "id": "647ae275",
   "metadata": {},
   "outputs": [
    {
     "data": {
      "text/html": [
       "<table class=\"dataframe\">\n",
       "<caption>A tibble: 1 × 2</caption>\n",
       "<thead>\n",
       "\t<tr><th scope=col>mean_n</th><th scope=col>sd_n</th></tr>\n",
       "\t<tr><th scope=col>&lt;dbl&gt;</th><th scope=col>&lt;dbl&gt;</th></tr>\n",
       "</thead>\n",
       "<tbody>\n",
       "\t<tr><td>64</td><td>23.84324</td></tr>\n",
       "</tbody>\n",
       "</table>\n"
      ],
      "text/latex": [
       "A tibble: 1 × 2\n",
       "\\begin{tabular}{ll}\n",
       " mean\\_n & sd\\_n\\\\\n",
       " <dbl> & <dbl>\\\\\n",
       "\\hline\n",
       "\t 64 & 23.84324\\\\\n",
       "\\end{tabular}\n"
      ],
      "text/markdown": [
       "\n",
       "A tibble: 1 × 2\n",
       "\n",
       "| mean_n &lt;dbl&gt; | sd_n &lt;dbl&gt; |\n",
       "|---|---|\n",
       "| 64 | 23.84324 |\n",
       "\n"
      ],
      "text/plain": [
       "  mean_n sd_n    \n",
       "1 64     23.84324"
      ]
     },
     "metadata": {},
     "output_type": "display_data"
    }
   ],
   "source": [
    "# estimate the number of catlas pieces that had overlapping annotations \n",
    "overlapping_kos %>% \n",
    "  group_by(species, KEGG_ko) %>% \n",
    "  tally() %>%\n",
    "  group_by(species) %>%\n",
    "  tally() %>%\n",
    "  summarize(mean_n = mean(n),\n",
    "            sd_n = sd(n))"
   ]
  },
  {
   "cell_type": "code",
   "execution_count": null,
   "id": "9cdd4991",
   "metadata": {},
   "outputs": [],
   "source": []
  }
 ],
 "metadata": {
  "kernelspec": {
   "display_name": "R",
   "language": "R",
   "name": "ir"
  },
  "language_info": {
   "codemirror_mode": "r",
   "file_extension": ".r",
   "mimetype": "text/x-r-source",
   "name": "R",
   "pygments_lexer": "r",
   "version": "4.1.3"
  }
 },
 "nbformat": 4,
 "nbformat_minor": 5
}
