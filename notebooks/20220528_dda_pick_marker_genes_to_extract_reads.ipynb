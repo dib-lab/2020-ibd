{
 "cells": [
  {
   "cell_type": "markdown",
   "id": "57ac05dc",
   "metadata": {},
   "source": [
    "This notebook looks at the single copy marker genes that were annotated on multiple dominating set pieces, where at least one of which was increased in abundance and decreased in abundance in CD. It selects a few sequences to dig into more using `spacegraphcats extract_reads`"
   ]
  },
  {
   "cell_type": "code",
   "execution_count": 1,
   "id": "28a5def6",
   "metadata": {},
   "outputs": [],
   "source": [
    "setwd(\"..\")"
   ]
  },
  {
   "cell_type": "code",
   "execution_count": 2,
   "id": "85dad529",
   "metadata": {},
   "outputs": [
    {
     "name": "stderr",
     "output_type": "stream",
     "text": [
      "\n",
      "Attaching package: ‘dplyr’\n",
      "\n",
      "\n",
      "The following objects are masked from ‘package:stats’:\n",
      "\n",
      "    filter, lag\n",
      "\n",
      "\n",
      "The following objects are masked from ‘package:base’:\n",
      "\n",
      "    intersect, setdiff, setequal, union\n",
      "\n",
      "\n"
     ]
    }
   ],
   "source": [
    "library(dplyr)\n",
    "library(readr)\n",
    "library(purrr)"
   ]
  },
  {
   "cell_type": "code",
   "execution_count": 14,
   "id": "d4ab3492",
   "metadata": {},
   "outputs": [
    {
     "data": {
      "text/html": [
       "<table class=\"dataframe\">\n",
       "<caption>A grouped_df: 24 × 3</caption>\n",
       "<thead>\n",
       "\t<tr><th scope=col>filename</th><th scope=col>Preferred_name</th><th scope=col>n</th></tr>\n",
       "\t<tr><th scope=col>&lt;chr&gt;</th><th scope=col>&lt;chr&gt;</th><th scope=col>&lt;int&gt;</th></tr>\n",
       "</thead>\n",
       "<tbody>\n",
       "\t<tr><td>s__Ruminococcus_B-gnavus           </td><td>rpsQ</td><td>  2</td></tr>\n",
       "\t<tr><td>s__Enterocloster-clostridioformis_A</td><td>rpsI</td><td>  2</td></tr>\n",
       "\t<tr><td>s__Ruminococcus_B-gnavus           </td><td>rpsI</td><td>  2</td></tr>\n",
       "\t<tr><td>s__Enterocloster-clostridioformis_A</td><td>rpsH</td><td>  4</td></tr>\n",
       "\t<tr><td>s__Enterocloster-clostridioformis_A</td><td>rpsC</td><td>  4</td></tr>\n",
       "\t<tr><td>s__Enterocloster-sp005845215       </td><td>rpsC</td><td>  2</td></tr>\n",
       "\t<tr><td>s__Enterocloster-sp005845215       </td><td>rpsB</td><td>  3</td></tr>\n",
       "\t<tr><td>s__Ruminococcus_B-gnavus           </td><td>rpmC</td><td>  2</td></tr>\n",
       "\t<tr><td>s__Enterocloster-clostridioformis  </td><td>rplT</td><td>  2</td></tr>\n",
       "\t<tr><td>s__Ruminococcus_B-gnavus           </td><td>rplQ</td><td>  2</td></tr>\n",
       "\t<tr><td>s__Enterocloster-clostridioformis_A</td><td>rplO</td><td>  2</td></tr>\n",
       "\t<tr><td>s__Enterocloster-sp005845215       </td><td>rplO</td><td>  2</td></tr>\n",
       "\t<tr><td>s__Enterocloster-clostridioformis_A</td><td>rplF</td><td>  4</td></tr>\n",
       "\t<tr><td>s__Enterocloster-clostridioformis  </td><td>rplD</td><td>  3</td></tr>\n",
       "\t<tr><td>s__Enterocloster-clostridioformis_A</td><td>rplD</td><td>  3</td></tr>\n",
       "\t<tr><td>s__Enterocloster-bolteae           </td><td>rplC</td><td>  2</td></tr>\n",
       "\t<tr><td>s__Enterocloster-clostridioformis_A</td><td>rplC</td><td>  2</td></tr>\n",
       "\t<tr><td>s__Enterocloster-bolteae           </td><td>rplB</td><td>  5</td></tr>\n",
       "\t<tr><td>s__Enterocloster-clostridioformis  </td><td>rplB</td><td>  3</td></tr>\n",
       "\t<tr><td>s__Ruminococcus_B-gnavus           </td><td>rplA</td><td>  3</td></tr>\n",
       "\t<tr><td>s__Enterocloster-clostridioformis  </td><td>infB</td><td>111</td></tr>\n",
       "\t<tr><td>s__Enterocloster-clostridioformis_A</td><td>ftsY</td><td>  4</td></tr>\n",
       "\t<tr><td>s__Enterocloster-sp005845215       </td><td>ftsY</td><td>  4</td></tr>\n",
       "\t<tr><td>s__Ruminococcus_B-gnavus           </td><td>ffh </td><td>  6</td></tr>\n",
       "</tbody>\n",
       "</table>\n"
      ],
      "text/latex": [
       "A grouped\\_df: 24 × 3\n",
       "\\begin{tabular}{lll}\n",
       " filename & Preferred\\_name & n\\\\\n",
       " <chr> & <chr> & <int>\\\\\n",
       "\\hline\n",
       "\t s\\_\\_Ruminococcus\\_B-gnavus            & rpsQ &   2\\\\\n",
       "\t s\\_\\_Enterocloster-clostridioformis\\_A & rpsI &   2\\\\\n",
       "\t s\\_\\_Ruminococcus\\_B-gnavus            & rpsI &   2\\\\\n",
       "\t s\\_\\_Enterocloster-clostridioformis\\_A & rpsH &   4\\\\\n",
       "\t s\\_\\_Enterocloster-clostridioformis\\_A & rpsC &   4\\\\\n",
       "\t s\\_\\_Enterocloster-sp005845215        & rpsC &   2\\\\\n",
       "\t s\\_\\_Enterocloster-sp005845215        & rpsB &   3\\\\\n",
       "\t s\\_\\_Ruminococcus\\_B-gnavus            & rpmC &   2\\\\\n",
       "\t s\\_\\_Enterocloster-clostridioformis   & rplT &   2\\\\\n",
       "\t s\\_\\_Ruminococcus\\_B-gnavus            & rplQ &   2\\\\\n",
       "\t s\\_\\_Enterocloster-clostridioformis\\_A & rplO &   2\\\\\n",
       "\t s\\_\\_Enterocloster-sp005845215        & rplO &   2\\\\\n",
       "\t s\\_\\_Enterocloster-clostridioformis\\_A & rplF &   4\\\\\n",
       "\t s\\_\\_Enterocloster-clostridioformis   & rplD &   3\\\\\n",
       "\t s\\_\\_Enterocloster-clostridioformis\\_A & rplD &   3\\\\\n",
       "\t s\\_\\_Enterocloster-bolteae            & rplC &   2\\\\\n",
       "\t s\\_\\_Enterocloster-clostridioformis\\_A & rplC &   2\\\\\n",
       "\t s\\_\\_Enterocloster-bolteae            & rplB &   5\\\\\n",
       "\t s\\_\\_Enterocloster-clostridioformis   & rplB &   3\\\\\n",
       "\t s\\_\\_Ruminococcus\\_B-gnavus            & rplA &   3\\\\\n",
       "\t s\\_\\_Enterocloster-clostridioformis   & infB & 111\\\\\n",
       "\t s\\_\\_Enterocloster-clostridioformis\\_A & ftsY &   4\\\\\n",
       "\t s\\_\\_Enterocloster-sp005845215        & ftsY &   4\\\\\n",
       "\t s\\_\\_Ruminococcus\\_B-gnavus            & ffh  &   6\\\\\n",
       "\\end{tabular}\n"
      ],
      "text/markdown": [
       "\n",
       "A grouped_df: 24 × 3\n",
       "\n",
       "| filename &lt;chr&gt; | Preferred_name &lt;chr&gt; | n &lt;int&gt; |\n",
       "|---|---|---|\n",
       "| s__Ruminococcus_B-gnavus            | rpsQ |   2 |\n",
       "| s__Enterocloster-clostridioformis_A | rpsI |   2 |\n",
       "| s__Ruminococcus_B-gnavus            | rpsI |   2 |\n",
       "| s__Enterocloster-clostridioformis_A | rpsH |   4 |\n",
       "| s__Enterocloster-clostridioformis_A | rpsC |   4 |\n",
       "| s__Enterocloster-sp005845215        | rpsC |   2 |\n",
       "| s__Enterocloster-sp005845215        | rpsB |   3 |\n",
       "| s__Ruminococcus_B-gnavus            | rpmC |   2 |\n",
       "| s__Enterocloster-clostridioformis   | rplT |   2 |\n",
       "| s__Ruminococcus_B-gnavus            | rplQ |   2 |\n",
       "| s__Enterocloster-clostridioformis_A | rplO |   2 |\n",
       "| s__Enterocloster-sp005845215        | rplO |   2 |\n",
       "| s__Enterocloster-clostridioformis_A | rplF |   4 |\n",
       "| s__Enterocloster-clostridioformis   | rplD |   3 |\n",
       "| s__Enterocloster-clostridioformis_A | rplD |   3 |\n",
       "| s__Enterocloster-bolteae            | rplC |   2 |\n",
       "| s__Enterocloster-clostridioformis_A | rplC |   2 |\n",
       "| s__Enterocloster-bolteae            | rplB |   5 |\n",
       "| s__Enterocloster-clostridioformis   | rplB |   3 |\n",
       "| s__Ruminococcus_B-gnavus            | rplA |   3 |\n",
       "| s__Enterocloster-clostridioformis   | infB | 111 |\n",
       "| s__Enterocloster-clostridioformis_A | ftsY |   4 |\n",
       "| s__Enterocloster-sp005845215        | ftsY |   4 |\n",
       "| s__Ruminococcus_B-gnavus            | ffh  |   6 |\n",
       "\n"
      ],
      "text/plain": [
       "   filename                            Preferred_name n  \n",
       "1  s__Ruminococcus_B-gnavus            rpsQ             2\n",
       "2  s__Enterocloster-clostridioformis_A rpsI             2\n",
       "3  s__Ruminococcus_B-gnavus            rpsI             2\n",
       "4  s__Enterocloster-clostridioformis_A rpsH             4\n",
       "5  s__Enterocloster-clostridioformis_A rpsC             4\n",
       "6  s__Enterocloster-sp005845215        rpsC             2\n",
       "7  s__Enterocloster-sp005845215        rpsB             3\n",
       "8  s__Ruminococcus_B-gnavus            rpmC             2\n",
       "9  s__Enterocloster-clostridioformis   rplT             2\n",
       "10 s__Ruminococcus_B-gnavus            rplQ             2\n",
       "11 s__Enterocloster-clostridioformis_A rplO             2\n",
       "12 s__Enterocloster-sp005845215        rplO             2\n",
       "13 s__Enterocloster-clostridioformis_A rplF             4\n",
       "14 s__Enterocloster-clostridioformis   rplD             3\n",
       "15 s__Enterocloster-clostridioformis_A rplD             3\n",
       "16 s__Enterocloster-bolteae            rplC             2\n",
       "17 s__Enterocloster-clostridioformis_A rplC             2\n",
       "18 s__Enterocloster-bolteae            rplB             5\n",
       "19 s__Enterocloster-clostridioformis   rplB             3\n",
       "20 s__Ruminococcus_B-gnavus            rplA             3\n",
       "21 s__Enterocloster-clostridioformis   infB           111\n",
       "22 s__Enterocloster-clostridioformis_A ftsY             4\n",
       "23 s__Enterocloster-sp005845215        ftsY             4\n",
       "24 s__Ruminococcus_B-gnavus            ffh              6"
      ]
     },
     "metadata": {},
     "output_type": "display_data"
    }
   ],
   "source": [
    "# look at an overview of all of the single copy marker gene sequences that had overlapping annotaitons across the species\n",
    "marker_ko <- Sys.glob(\"outputs/sgc_pangenome_catlases_corncob_annotation_analysis/*overlapping_marker_kos.tsv\") %>%\n",
    "  map_dfr(read_tsv, show_col_types = F) %>%\n",
    "  mutate(filename = gsub(\"_clustered_annotated_seqs.fa\", \"\", filename))\n",
    "\n",
    "marker_ko_summary <- marker_ko  %>%\n",
    "  select(filename, Preferred_name) %>%\n",
    "  group_by(filename, Preferred_name) %>%\n",
    "  tally() %>%\n",
    "  arrange(desc(Preferred_name))\n",
    "\n",
    "marker_ko_summary"
   ]
  },
  {
   "cell_type": "markdown",
   "id": "f7783d97",
   "metadata": {},
   "source": [
    "It looks like all species have a least one `rpl*` gene that was annotated among both increased and decreased abundance dominating set pieces"
   ]
  },
  {
   "cell_type": "code",
   "execution_count": 9,
   "id": "8639e574",
   "metadata": {},
   "outputs": [
    {
     "data": {
      "text/html": [
       "<table class=\"dataframe\">\n",
       "<caption>A grouped_df: 12 × 3</caption>\n",
       "<thead>\n",
       "\t<tr><th scope=col>filename</th><th scope=col>Preferred_name</th><th scope=col>n</th></tr>\n",
       "\t<tr><th scope=col>&lt;chr&gt;</th><th scope=col>&lt;chr&gt;</th><th scope=col>&lt;int&gt;</th></tr>\n",
       "</thead>\n",
       "<tbody>\n",
       "\t<tr><td>s__Enterocloster-clostridioformis  </td><td>rplT</td><td>2</td></tr>\n",
       "\t<tr><td>s__Ruminococcus_B-gnavus           </td><td>rplQ</td><td>2</td></tr>\n",
       "\t<tr><td>s__Enterocloster-clostridioformis_A</td><td>rplO</td><td>2</td></tr>\n",
       "\t<tr><td>s__Enterocloster-sp005845215       </td><td>rplO</td><td>2</td></tr>\n",
       "\t<tr><td>s__Enterocloster-clostridioformis_A</td><td>rplF</td><td>4</td></tr>\n",
       "\t<tr><td>s__Enterocloster-clostridioformis  </td><td>rplD</td><td>3</td></tr>\n",
       "\t<tr><td>s__Enterocloster-clostridioformis_A</td><td>rplD</td><td>3</td></tr>\n",
       "\t<tr><td>s__Enterocloster-bolteae           </td><td>rplC</td><td>2</td></tr>\n",
       "\t<tr><td>s__Enterocloster-clostridioformis_A</td><td>rplC</td><td>2</td></tr>\n",
       "\t<tr><td>s__Enterocloster-bolteae           </td><td>rplB</td><td>5</td></tr>\n",
       "\t<tr><td>s__Enterocloster-clostridioformis  </td><td>rplB</td><td>3</td></tr>\n",
       "\t<tr><td>s__Ruminococcus_B-gnavus           </td><td>rplA</td><td>3</td></tr>\n",
       "</tbody>\n",
       "</table>\n"
      ],
      "text/latex": [
       "A grouped\\_df: 12 × 3\n",
       "\\begin{tabular}{lll}\n",
       " filename & Preferred\\_name & n\\\\\n",
       " <chr> & <chr> & <int>\\\\\n",
       "\\hline\n",
       "\t s\\_\\_Enterocloster-clostridioformis   & rplT & 2\\\\\n",
       "\t s\\_\\_Ruminococcus\\_B-gnavus            & rplQ & 2\\\\\n",
       "\t s\\_\\_Enterocloster-clostridioformis\\_A & rplO & 2\\\\\n",
       "\t s\\_\\_Enterocloster-sp005845215        & rplO & 2\\\\\n",
       "\t s\\_\\_Enterocloster-clostridioformis\\_A & rplF & 4\\\\\n",
       "\t s\\_\\_Enterocloster-clostridioformis   & rplD & 3\\\\\n",
       "\t s\\_\\_Enterocloster-clostridioformis\\_A & rplD & 3\\\\\n",
       "\t s\\_\\_Enterocloster-bolteae            & rplC & 2\\\\\n",
       "\t s\\_\\_Enterocloster-clostridioformis\\_A & rplC & 2\\\\\n",
       "\t s\\_\\_Enterocloster-bolteae            & rplB & 5\\\\\n",
       "\t s\\_\\_Enterocloster-clostridioformis   & rplB & 3\\\\\n",
       "\t s\\_\\_Ruminococcus\\_B-gnavus            & rplA & 3\\\\\n",
       "\\end{tabular}\n"
      ],
      "text/markdown": [
       "\n",
       "A grouped_df: 12 × 3\n",
       "\n",
       "| filename &lt;chr&gt; | Preferred_name &lt;chr&gt; | n &lt;int&gt; |\n",
       "|---|---|---|\n",
       "| s__Enterocloster-clostridioformis   | rplT | 2 |\n",
       "| s__Ruminococcus_B-gnavus            | rplQ | 2 |\n",
       "| s__Enterocloster-clostridioformis_A | rplO | 2 |\n",
       "| s__Enterocloster-sp005845215        | rplO | 2 |\n",
       "| s__Enterocloster-clostridioformis_A | rplF | 4 |\n",
       "| s__Enterocloster-clostridioformis   | rplD | 3 |\n",
       "| s__Enterocloster-clostridioformis_A | rplD | 3 |\n",
       "| s__Enterocloster-bolteae            | rplC | 2 |\n",
       "| s__Enterocloster-clostridioformis_A | rplC | 2 |\n",
       "| s__Enterocloster-bolteae            | rplB | 5 |\n",
       "| s__Enterocloster-clostridioformis   | rplB | 3 |\n",
       "| s__Ruminococcus_B-gnavus            | rplA | 3 |\n",
       "\n"
      ],
      "text/plain": [
       "   filename                            Preferred_name n\n",
       "1  s__Enterocloster-clostridioformis   rplT           2\n",
       "2  s__Ruminococcus_B-gnavus            rplQ           2\n",
       "3  s__Enterocloster-clostridioformis_A rplO           2\n",
       "4  s__Enterocloster-sp005845215        rplO           2\n",
       "5  s__Enterocloster-clostridioformis_A rplF           4\n",
       "6  s__Enterocloster-clostridioformis   rplD           3\n",
       "7  s__Enterocloster-clostridioformis_A rplD           3\n",
       "8  s__Enterocloster-bolteae            rplC           2\n",
       "9  s__Enterocloster-clostridioformis_A rplC           2\n",
       "10 s__Enterocloster-bolteae            rplB           5\n",
       "11 s__Enterocloster-clostridioformis   rplB           3\n",
       "12 s__Ruminococcus_B-gnavus            rplA           3"
      ]
     },
     "metadata": {},
     "output_type": "display_data"
    }
   ],
   "source": [
    "marker_ko_summary %>%\n",
    "  filter(grepl(\"^rpl\", Preferred_name))"
   ]
  },
  {
   "cell_type": "markdown",
   "id": "44fc9ae5",
   "metadata": {},
   "source": [
    "select the `rpl*` genes that were:\n",
    "+ both decreased and increased in abundance in multiple species (preferred, not required)\n",
    "+ were only annotated in two diff abund dom set pieces"
   ]
  },
  {
   "cell_type": "code",
   "execution_count": 15,
   "id": "69b70988",
   "metadata": {},
   "outputs": [
    {
     "data": {
      "text/html": [
       "<table class=\"dataframe\">\n",
       "<caption>A grouped_df: 6 × 3</caption>\n",
       "<thead>\n",
       "\t<tr><th scope=col>filename</th><th scope=col>Preferred_name</th><th scope=col>n</th></tr>\n",
       "\t<tr><th scope=col>&lt;chr&gt;</th><th scope=col>&lt;chr&gt;</th><th scope=col>&lt;int&gt;</th></tr>\n",
       "</thead>\n",
       "<tbody>\n",
       "\t<tr><td>s__Enterocloster-clostridioformis  </td><td>rplT</td><td>2</td></tr>\n",
       "\t<tr><td>s__Ruminococcus_B-gnavus           </td><td>rplQ</td><td>2</td></tr>\n",
       "\t<tr><td>s__Enterocloster-clostridioformis_A</td><td>rplO</td><td>2</td></tr>\n",
       "\t<tr><td>s__Enterocloster-sp005845215       </td><td>rplO</td><td>2</td></tr>\n",
       "\t<tr><td>s__Enterocloster-bolteae           </td><td>rplC</td><td>2</td></tr>\n",
       "\t<tr><td>s__Enterocloster-clostridioformis_A</td><td>rplC</td><td>2</td></tr>\n",
       "</tbody>\n",
       "</table>\n"
      ],
      "text/latex": [
       "A grouped\\_df: 6 × 3\n",
       "\\begin{tabular}{lll}\n",
       " filename & Preferred\\_name & n\\\\\n",
       " <chr> & <chr> & <int>\\\\\n",
       "\\hline\n",
       "\t s\\_\\_Enterocloster-clostridioformis   & rplT & 2\\\\\n",
       "\t s\\_\\_Ruminococcus\\_B-gnavus            & rplQ & 2\\\\\n",
       "\t s\\_\\_Enterocloster-clostridioformis\\_A & rplO & 2\\\\\n",
       "\t s\\_\\_Enterocloster-sp005845215        & rplO & 2\\\\\n",
       "\t s\\_\\_Enterocloster-bolteae            & rplC & 2\\\\\n",
       "\t s\\_\\_Enterocloster-clostridioformis\\_A & rplC & 2\\\\\n",
       "\\end{tabular}\n"
      ],
      "text/markdown": [
       "\n",
       "A grouped_df: 6 × 3\n",
       "\n",
       "| filename &lt;chr&gt; | Preferred_name &lt;chr&gt; | n &lt;int&gt; |\n",
       "|---|---|---|\n",
       "| s__Enterocloster-clostridioformis   | rplT | 2 |\n",
       "| s__Ruminococcus_B-gnavus            | rplQ | 2 |\n",
       "| s__Enterocloster-clostridioformis_A | rplO | 2 |\n",
       "| s__Enterocloster-sp005845215        | rplO | 2 |\n",
       "| s__Enterocloster-bolteae            | rplC | 2 |\n",
       "| s__Enterocloster-clostridioformis_A | rplC | 2 |\n",
       "\n"
      ],
      "text/plain": [
       "  filename                            Preferred_name n\n",
       "1 s__Enterocloster-clostridioformis   rplT           2\n",
       "2 s__Ruminococcus_B-gnavus            rplQ           2\n",
       "3 s__Enterocloster-clostridioformis_A rplO           2\n",
       "4 s__Enterocloster-sp005845215        rplO           2\n",
       "5 s__Enterocloster-bolteae            rplC           2\n",
       "6 s__Enterocloster-clostridioformis_A rplC           2"
      ]
     },
     "metadata": {},
     "output_type": "display_data"
    }
   ],
   "source": [
    "marker_ko_summary %>%\n",
    "  filter(grepl(\"^rpl\", Preferred_name)) %>%\n",
    "  filter(n == 2)\n",
    "\n",
    "marker_kos_keep <- c(\"rplT\", \"rplQ\", \"rplO\", \"rplC\")"
   ]
  },
  {
   "cell_type": "code",
   "execution_count": 20,
   "id": "b2829424",
   "metadata": {},
   "outputs": [
    {
     "data": {
      "text/html": [
       "<table class=\"dataframe\">\n",
       "<caption>A tibble: 12 × 8</caption>\n",
       "<thead>\n",
       "\t<tr><th scope=col>estimate</th><th scope=col>bonferroni</th><th scope=col>filename</th><th scope=col>record_name</th><th scope=col>record_id</th><th scope=col>Preferred_name</th><th scope=col>dom_id</th><th scope=col>size</th></tr>\n",
       "\t<tr><th scope=col>&lt;dbl&gt;</th><th scope=col>&lt;dbl&gt;</th><th scope=col>&lt;chr&gt;</th><th scope=col>&lt;chr&gt;</th><th scope=col>&lt;chr&gt;</th><th scope=col>&lt;chr&gt;</th><th scope=col>&lt;dbl&gt;</th><th scope=col>&lt;dbl&gt;</th></tr>\n",
       "</thead>\n",
       "<tbody>\n",
       "\t<tr><td> 1.1614570</td><td>1.701443e-02</td><td>s__Enterocloster-clostridioformis_A</td><td>GCF_000424325.1_14560 50S ribosomal protein L15</td><td>GCF_000424325.1_14560</td><td>rplO</td><td>124843</td><td> 462</td></tr>\n",
       "\t<tr><td>-0.6893618</td><td>7.332007e-04</td><td>s__Enterocloster-clostridioformis_A</td><td>GCF_000424325.1_14560 50S ribosomal protein L15</td><td>GCF_000424325.1_14560</td><td>rplO</td><td> 55634</td><td>2868</td></tr>\n",
       "\t<tr><td> 1.2326538</td><td>2.176084e-04</td><td>s__Enterocloster-clostridioformis_A</td><td>GCF_000424325.1_14655 50S ribosomal protein L3 </td><td>GCF_000424325.1_14655</td><td>rplC</td><td>143455</td><td> 435</td></tr>\n",
       "\t<tr><td>-0.5479851</td><td>1.651133e-03</td><td>s__Enterocloster-clostridioformis_A</td><td>GCF_000424325.1_14655 50S ribosomal protein L3 </td><td>GCF_000424325.1_14655</td><td>rplC</td><td>297329</td><td>2399</td></tr>\n",
       "\t<tr><td> 1.1106049</td><td>2.557957e-04</td><td>s__Enterocloster-bolteae           </td><td>GCF_000371665.1_11465 50S ribosomal protein L3 </td><td>GCF_000371665.1_11465</td><td>rplC</td><td>533124</td><td> 621</td></tr>\n",
       "\t<tr><td>-0.5181141</td><td>8.773310e-03</td><td>s__Enterocloster-bolteae           </td><td>GCF_000371665.1_11465 50S ribosomal protein L3 </td><td>GCF_000371665.1_11465</td><td>rplC</td><td>304454</td><td>3199</td></tr>\n",
       "\t<tr><td> 0.8746773</td><td>5.752351e-03</td><td>s__Enterocloster-sp005845215       </td><td>GCF_900753375.1_04580 50S ribosomal protein L15</td><td>GCF_900753375.1_04580</td><td>rplO</td><td> 11558</td><td>1858</td></tr>\n",
       "\t<tr><td>-0.9882787</td><td>6.209340e-04</td><td>s__Enterocloster-sp005845215       </td><td>GCF_900753375.1_04580 50S ribosomal protein L15</td><td>GCF_900753375.1_04580</td><td>rplO</td><td> 12786</td><td>1008</td></tr>\n",
       "\t<tr><td> 0.8485088</td><td>1.125269e-02</td><td>s__Ruminococcus_B-gnavus           </td><td>GCF_013299885.1_02845 50S ribosomal protein L17</td><td>GCF_013299885.1_02845</td><td>rplQ</td><td>250497</td><td>1197</td></tr>\n",
       "\t<tr><td>-0.5461895</td><td>8.195545e-04</td><td>s__Ruminococcus_B-gnavus           </td><td>GCF_013299885.1_02845 50S ribosomal protein L17</td><td>GCF_013299885.1_02845</td><td>rplQ</td><td>126054</td><td>4332</td></tr>\n",
       "\t<tr><td> 1.5918119</td><td>1.989216e-08</td><td>s__Enterocloster-clostridioformis  </td><td>GCF_000371605.1_09075 50S ribosomal protein L20</td><td>GCF_000371605.1_09075</td><td>rplT</td><td>318818</td><td>2321</td></tr>\n",
       "\t<tr><td>-0.5964703</td><td>4.222045e-03</td><td>s__Enterocloster-clostridioformis  </td><td>GCF_000371605.1_09075 50S ribosomal protein L20</td><td>GCF_000371605.1_09075</td><td>rplT</td><td>261660</td><td>2978</td></tr>\n",
       "</tbody>\n",
       "</table>\n"
      ],
      "text/latex": [
       "A tibble: 12 × 8\n",
       "\\begin{tabular}{llllllll}\n",
       " estimate & bonferroni & filename & record\\_name & record\\_id & Preferred\\_name & dom\\_id & size\\\\\n",
       " <dbl> & <dbl> & <chr> & <chr> & <chr> & <chr> & <dbl> & <dbl>\\\\\n",
       "\\hline\n",
       "\t  1.1614570 & 1.701443e-02 & s\\_\\_Enterocloster-clostridioformis\\_A & GCF\\_000424325.1\\_14560 50S ribosomal protein L15 & GCF\\_000424325.1\\_14560 & rplO & 124843 &  462\\\\\n",
       "\t -0.6893618 & 7.332007e-04 & s\\_\\_Enterocloster-clostridioformis\\_A & GCF\\_000424325.1\\_14560 50S ribosomal protein L15 & GCF\\_000424325.1\\_14560 & rplO &  55634 & 2868\\\\\n",
       "\t  1.2326538 & 2.176084e-04 & s\\_\\_Enterocloster-clostridioformis\\_A & GCF\\_000424325.1\\_14655 50S ribosomal protein L3  & GCF\\_000424325.1\\_14655 & rplC & 143455 &  435\\\\\n",
       "\t -0.5479851 & 1.651133e-03 & s\\_\\_Enterocloster-clostridioformis\\_A & GCF\\_000424325.1\\_14655 50S ribosomal protein L3  & GCF\\_000424325.1\\_14655 & rplC & 297329 & 2399\\\\\n",
       "\t  1.1106049 & 2.557957e-04 & s\\_\\_Enterocloster-bolteae            & GCF\\_000371665.1\\_11465 50S ribosomal protein L3  & GCF\\_000371665.1\\_11465 & rplC & 533124 &  621\\\\\n",
       "\t -0.5181141 & 8.773310e-03 & s\\_\\_Enterocloster-bolteae            & GCF\\_000371665.1\\_11465 50S ribosomal protein L3  & GCF\\_000371665.1\\_11465 & rplC & 304454 & 3199\\\\\n",
       "\t  0.8746773 & 5.752351e-03 & s\\_\\_Enterocloster-sp005845215        & GCF\\_900753375.1\\_04580 50S ribosomal protein L15 & GCF\\_900753375.1\\_04580 & rplO &  11558 & 1858\\\\\n",
       "\t -0.9882787 & 6.209340e-04 & s\\_\\_Enterocloster-sp005845215        & GCF\\_900753375.1\\_04580 50S ribosomal protein L15 & GCF\\_900753375.1\\_04580 & rplO &  12786 & 1008\\\\\n",
       "\t  0.8485088 & 1.125269e-02 & s\\_\\_Ruminococcus\\_B-gnavus            & GCF\\_013299885.1\\_02845 50S ribosomal protein L17 & GCF\\_013299885.1\\_02845 & rplQ & 250497 & 1197\\\\\n",
       "\t -0.5461895 & 8.195545e-04 & s\\_\\_Ruminococcus\\_B-gnavus            & GCF\\_013299885.1\\_02845 50S ribosomal protein L17 & GCF\\_013299885.1\\_02845 & rplQ & 126054 & 4332\\\\\n",
       "\t  1.5918119 & 1.989216e-08 & s\\_\\_Enterocloster-clostridioformis   & GCF\\_000371605.1\\_09075 50S ribosomal protein L20 & GCF\\_000371605.1\\_09075 & rplT & 318818 & 2321\\\\\n",
       "\t -0.5964703 & 4.222045e-03 & s\\_\\_Enterocloster-clostridioformis   & GCF\\_000371605.1\\_09075 50S ribosomal protein L20 & GCF\\_000371605.1\\_09075 & rplT & 261660 & 2978\\\\\n",
       "\\end{tabular}\n"
      ],
      "text/markdown": [
       "\n",
       "A tibble: 12 × 8\n",
       "\n",
       "| estimate &lt;dbl&gt; | bonferroni &lt;dbl&gt; | filename &lt;chr&gt; | record_name &lt;chr&gt; | record_id &lt;chr&gt; | Preferred_name &lt;chr&gt; | dom_id &lt;dbl&gt; | size &lt;dbl&gt; |\n",
       "|---|---|---|---|---|---|---|---|\n",
       "|  1.1614570 | 1.701443e-02 | s__Enterocloster-clostridioformis_A | GCF_000424325.1_14560 50S ribosomal protein L15 | GCF_000424325.1_14560 | rplO | 124843 |  462 |\n",
       "| -0.6893618 | 7.332007e-04 | s__Enterocloster-clostridioformis_A | GCF_000424325.1_14560 50S ribosomal protein L15 | GCF_000424325.1_14560 | rplO |  55634 | 2868 |\n",
       "|  1.2326538 | 2.176084e-04 | s__Enterocloster-clostridioformis_A | GCF_000424325.1_14655 50S ribosomal protein L3  | GCF_000424325.1_14655 | rplC | 143455 |  435 |\n",
       "| -0.5479851 | 1.651133e-03 | s__Enterocloster-clostridioformis_A | GCF_000424325.1_14655 50S ribosomal protein L3  | GCF_000424325.1_14655 | rplC | 297329 | 2399 |\n",
       "|  1.1106049 | 2.557957e-04 | s__Enterocloster-bolteae            | GCF_000371665.1_11465 50S ribosomal protein L3  | GCF_000371665.1_11465 | rplC | 533124 |  621 |\n",
       "| -0.5181141 | 8.773310e-03 | s__Enterocloster-bolteae            | GCF_000371665.1_11465 50S ribosomal protein L3  | GCF_000371665.1_11465 | rplC | 304454 | 3199 |\n",
       "|  0.8746773 | 5.752351e-03 | s__Enterocloster-sp005845215        | GCF_900753375.1_04580 50S ribosomal protein L15 | GCF_900753375.1_04580 | rplO |  11558 | 1858 |\n",
       "| -0.9882787 | 6.209340e-04 | s__Enterocloster-sp005845215        | GCF_900753375.1_04580 50S ribosomal protein L15 | GCF_900753375.1_04580 | rplO |  12786 | 1008 |\n",
       "|  0.8485088 | 1.125269e-02 | s__Ruminococcus_B-gnavus            | GCF_013299885.1_02845 50S ribosomal protein L17 | GCF_013299885.1_02845 | rplQ | 250497 | 1197 |\n",
       "| -0.5461895 | 8.195545e-04 | s__Ruminococcus_B-gnavus            | GCF_013299885.1_02845 50S ribosomal protein L17 | GCF_013299885.1_02845 | rplQ | 126054 | 4332 |\n",
       "|  1.5918119 | 1.989216e-08 | s__Enterocloster-clostridioformis   | GCF_000371605.1_09075 50S ribosomal protein L20 | GCF_000371605.1_09075 | rplT | 318818 | 2321 |\n",
       "| -0.5964703 | 4.222045e-03 | s__Enterocloster-clostridioformis   | GCF_000371605.1_09075 50S ribosomal protein L20 | GCF_000371605.1_09075 | rplT | 261660 | 2978 |\n",
       "\n"
      ],
      "text/plain": [
       "   estimate   bonferroni   filename                           \n",
       "1   1.1614570 1.701443e-02 s__Enterocloster-clostridioformis_A\n",
       "2  -0.6893618 7.332007e-04 s__Enterocloster-clostridioformis_A\n",
       "3   1.2326538 2.176084e-04 s__Enterocloster-clostridioformis_A\n",
       "4  -0.5479851 1.651133e-03 s__Enterocloster-clostridioformis_A\n",
       "5   1.1106049 2.557957e-04 s__Enterocloster-bolteae           \n",
       "6  -0.5181141 8.773310e-03 s__Enterocloster-bolteae           \n",
       "7   0.8746773 5.752351e-03 s__Enterocloster-sp005845215       \n",
       "8  -0.9882787 6.209340e-04 s__Enterocloster-sp005845215       \n",
       "9   0.8485088 1.125269e-02 s__Ruminococcus_B-gnavus           \n",
       "10 -0.5461895 8.195545e-04 s__Ruminococcus_B-gnavus           \n",
       "11  1.5918119 1.989216e-08 s__Enterocloster-clostridioformis  \n",
       "12 -0.5964703 4.222045e-03 s__Enterocloster-clostridioformis  \n",
       "   record_name                                     record_id            \n",
       "1  GCF_000424325.1_14560 50S ribosomal protein L15 GCF_000424325.1_14560\n",
       "2  GCF_000424325.1_14560 50S ribosomal protein L15 GCF_000424325.1_14560\n",
       "3  GCF_000424325.1_14655 50S ribosomal protein L3  GCF_000424325.1_14655\n",
       "4  GCF_000424325.1_14655 50S ribosomal protein L3  GCF_000424325.1_14655\n",
       "5  GCF_000371665.1_11465 50S ribosomal protein L3  GCF_000371665.1_11465\n",
       "6  GCF_000371665.1_11465 50S ribosomal protein L3  GCF_000371665.1_11465\n",
       "7  GCF_900753375.1_04580 50S ribosomal protein L15 GCF_900753375.1_04580\n",
       "8  GCF_900753375.1_04580 50S ribosomal protein L15 GCF_900753375.1_04580\n",
       "9  GCF_013299885.1_02845 50S ribosomal protein L17 GCF_013299885.1_02845\n",
       "10 GCF_013299885.1_02845 50S ribosomal protein L17 GCF_013299885.1_02845\n",
       "11 GCF_000371605.1_09075 50S ribosomal protein L20 GCF_000371605.1_09075\n",
       "12 GCF_000371605.1_09075 50S ribosomal protein L20 GCF_000371605.1_09075\n",
       "   Preferred_name dom_id size\n",
       "1  rplO           124843  462\n",
       "2  rplO            55634 2868\n",
       "3  rplC           143455  435\n",
       "4  rplC           297329 2399\n",
       "5  rplC           533124  621\n",
       "6  rplC           304454 3199\n",
       "7  rplO            11558 1858\n",
       "8  rplO            12786 1008\n",
       "9  rplQ           250497 1197\n",
       "10 rplQ           126054 4332\n",
       "11 rplT           318818 2321\n",
       "12 rplT           261660 2978"
      ]
     },
     "metadata": {},
     "output_type": "display_data"
    }
   ],
   "source": [
    "# look at record name that was a multifasta match; will become query for extract_reads\n",
    "marker_ko %>%\n",
    "  filter(Preferred_name %in% marker_kos_keep) %>%\n",
    "  select(estimate, bonferroni, filename, record_name, record_id, Preferred_name, dom_id, size)"
   ]
  },
  {
   "cell_type": "code",
   "execution_count": null,
   "id": "5d633763",
   "metadata": {},
   "outputs": [],
   "source": []
  }
 ],
 "metadata": {
  "kernelspec": {
   "display_name": "R",
   "language": "R",
   "name": "ir"
  },
  "language_info": {
   "codemirror_mode": "r",
   "file_extension": ".r",
   "mimetype": "text/x-r-source",
   "name": "R",
   "pygments_lexer": "r",
   "version": "4.1.3"
  }
 },
 "nbformat": 4,
 "nbformat_minor": 5
}
