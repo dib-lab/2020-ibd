{
 "cells": [
  {
   "cell_type": "markdown",
   "id": "f5eae75b",
   "metadata": {},
   "source": [
    "This notebook summarizes the number of KEGG orthologs that were only observed in the either pieces that were increased in abundance or in pieces that were decreased in abundance."
   ]
  },
  {
   "cell_type": "code",
   "execution_count": 1,
   "id": "aafc3ed5",
   "metadata": {},
   "outputs": [],
   "source": [
    "setwd(\"..\")"
   ]
  },
  {
   "cell_type": "code",
   "execution_count": 3,
   "id": "54bc0bac",
   "metadata": {},
   "outputs": [],
   "source": [
    "library(dplyr)\n",
    "library(readr)\n",
    "library(purrr)"
   ]
  },
  {
   "cell_type": "code",
   "execution_count": 11,
   "id": "cfea16f3",
   "metadata": {},
   "outputs": [
    {
     "data": {
      "text/html": [
       "<table class=\"dataframe\">\n",
       "<caption>A grouped_df: 10 × 3</caption>\n",
       "<thead>\n",
       "\t<tr><th scope=col>abundance</th><th scope=col>species</th><th scope=col>n</th></tr>\n",
       "\t<tr><th scope=col>&lt;chr&gt;</th><th scope=col>&lt;chr&gt;</th><th scope=col>&lt;int&gt;</th></tr>\n",
       "</thead>\n",
       "<tbody>\n",
       "\t<tr><td>decreased</td><td>s__Enterocloster-bolteae           </td><td>  20</td></tr>\n",
       "\t<tr><td>decreased</td><td>s__Enterocloster-clostridioformis  </td><td>  12</td></tr>\n",
       "\t<tr><td>decreased</td><td>s__Enterocloster-clostridioformis_A</td><td>  12</td></tr>\n",
       "\t<tr><td>decreased</td><td>s__Enterocloster-sp005845215       </td><td>  19</td></tr>\n",
       "\t<tr><td>decreased</td><td>s__Ruminococcus_B-gnavus           </td><td>  45</td></tr>\n",
       "\t<tr><td>increased</td><td>s__Enterocloster-bolteae           </td><td>1348</td></tr>\n",
       "\t<tr><td>increased</td><td>s__Enterocloster-clostridioformis  </td><td>1286</td></tr>\n",
       "\t<tr><td>increased</td><td>s__Enterocloster-clostridioformis_A</td><td>1157</td></tr>\n",
       "\t<tr><td>increased</td><td>s__Enterocloster-sp005845215       </td><td>1231</td></tr>\n",
       "\t<tr><td>increased</td><td>s__Ruminococcus_B-gnavus           </td><td> 945</td></tr>\n",
       "</tbody>\n",
       "</table>\n"
      ],
      "text/latex": [
       "A grouped\\_df: 10 × 3\n",
       "\\begin{tabular}{lll}\n",
       " abundance & species & n\\\\\n",
       " <chr> & <chr> & <int>\\\\\n",
       "\\hline\n",
       "\t decreased & s\\_\\_Enterocloster-bolteae            &   20\\\\\n",
       "\t decreased & s\\_\\_Enterocloster-clostridioformis   &   12\\\\\n",
       "\t decreased & s\\_\\_Enterocloster-clostridioformis\\_A &   12\\\\\n",
       "\t decreased & s\\_\\_Enterocloster-sp005845215        &   19\\\\\n",
       "\t decreased & s\\_\\_Ruminococcus\\_B-gnavus            &   45\\\\\n",
       "\t increased & s\\_\\_Enterocloster-bolteae            & 1348\\\\\n",
       "\t increased & s\\_\\_Enterocloster-clostridioformis   & 1286\\\\\n",
       "\t increased & s\\_\\_Enterocloster-clostridioformis\\_A & 1157\\\\\n",
       "\t increased & s\\_\\_Enterocloster-sp005845215        & 1231\\\\\n",
       "\t increased & s\\_\\_Ruminococcus\\_B-gnavus            &  945\\\\\n",
       "\\end{tabular}\n"
      ],
      "text/markdown": [
       "\n",
       "A grouped_df: 10 × 3\n",
       "\n",
       "| abundance &lt;chr&gt; | species &lt;chr&gt; | n &lt;int&gt; |\n",
       "|---|---|---|\n",
       "| decreased | s__Enterocloster-bolteae            |   20 |\n",
       "| decreased | s__Enterocloster-clostridioformis   |   12 |\n",
       "| decreased | s__Enterocloster-clostridioformis_A |   12 |\n",
       "| decreased | s__Enterocloster-sp005845215        |   19 |\n",
       "| decreased | s__Ruminococcus_B-gnavus            |   45 |\n",
       "| increased | s__Enterocloster-bolteae            | 1348 |\n",
       "| increased | s__Enterocloster-clostridioformis   | 1286 |\n",
       "| increased | s__Enterocloster-clostridioformis_A | 1157 |\n",
       "| increased | s__Enterocloster-sp005845215        | 1231 |\n",
       "| increased | s__Ruminococcus_B-gnavus            |  945 |\n",
       "\n"
      ],
      "text/plain": [
       "   abundance species                             n   \n",
       "1  decreased s__Enterocloster-bolteae              20\n",
       "2  decreased s__Enterocloster-clostridioformis     12\n",
       "3  decreased s__Enterocloster-clostridioformis_A   12\n",
       "4  decreased s__Enterocloster-sp005845215          19\n",
       "5  decreased s__Ruminococcus_B-gnavus              45\n",
       "6  increased s__Enterocloster-bolteae            1348\n",
       "7  increased s__Enterocloster-clostridioformis   1286\n",
       "8  increased s__Enterocloster-clostridioformis_A 1157\n",
       "9  increased s__Enterocloster-sp005845215        1231\n",
       "10 increased s__Ruminococcus_B-gnavus             945"
      ]
     },
     "metadata": {},
     "output_type": "display_data"
    }
   ],
   "source": [
    "Sys.glob(\"outputs/sgc_pangenome_catlases_corncob_annotation_analysis/*distinct_kos_df.tsv\") %>%\n",
    "  map_dfr(read_tsv, show_col_types = F) %>%\n",
    "  select(-dom_id) %>%\n",
    "  distinct() %>%\n",
    "  group_by(abundance, species) %>%\n",
    "  tally()"
   ]
  },
  {
   "cell_type": "code",
   "execution_count": 12,
   "id": "8d761791",
   "metadata": {},
   "outputs": [
    {
     "data": {
      "text/html": [
       "<table class=\"dataframe\">\n",
       "<caption>A tibble: 2 × 3</caption>\n",
       "<thead>\n",
       "\t<tr><th scope=col>abundance</th><th scope=col>mean_n</th><th scope=col>sd_n</th></tr>\n",
       "\t<tr><th scope=col>&lt;chr&gt;</th><th scope=col>&lt;dbl&gt;</th><th scope=col>&lt;dbl&gt;</th></tr>\n",
       "</thead>\n",
       "<tbody>\n",
       "\t<tr><td>decreased</td><td>  21.6</td><td> 13.61249</td></tr>\n",
       "\t<tr><td>increased</td><td>1193.4</td><td>155.65764</td></tr>\n",
       "</tbody>\n",
       "</table>\n"
      ],
      "text/latex": [
       "A tibble: 2 × 3\n",
       "\\begin{tabular}{lll}\n",
       " abundance & mean\\_n & sd\\_n\\\\\n",
       " <chr> & <dbl> & <dbl>\\\\\n",
       "\\hline\n",
       "\t decreased &   21.6 &  13.61249\\\\\n",
       "\t increased & 1193.4 & 155.65764\\\\\n",
       "\\end{tabular}\n"
      ],
      "text/markdown": [
       "\n",
       "A tibble: 2 × 3\n",
       "\n",
       "| abundance &lt;chr&gt; | mean_n &lt;dbl&gt; | sd_n &lt;dbl&gt; |\n",
       "|---|---|---|\n",
       "| decreased |   21.6 |  13.61249 |\n",
       "| increased | 1193.4 | 155.65764 |\n",
       "\n"
      ],
      "text/plain": [
       "  abundance mean_n sd_n     \n",
       "1 decreased   21.6  13.61249\n",
       "2 increased 1193.4 155.65764"
      ]
     },
     "metadata": {},
     "output_type": "display_data"
    }
   ],
   "source": [
    "Sys.glob(\"outputs/sgc_pangenome_catlases_corncob_annotation_analysis/*distinct_kos_df.tsv\") %>%\n",
    "  map_dfr(read_tsv, show_col_types = F) %>%\n",
    "  select(-dom_id) %>%\n",
    "  distinct() %>%\n",
    "  group_by(abundance, species) %>%\n",
    "  tally() %>%\n",
    "  summarize(mean_n = mean(n),\n",
    "            sd_n = sd(n))"
   ]
  },
  {
   "cell_type": "code",
   "execution_count": null,
   "id": "9d2e5f65",
   "metadata": {},
   "outputs": [],
   "source": []
  }
 ],
 "metadata": {
  "kernelspec": {
   "display_name": "R",
   "language": "R",
   "name": "ir"
  },
  "language_info": {
   "codemirror_mode": "r",
   "file_extension": ".r",
   "mimetype": "text/x-r-source",
   "name": "R",
   "pygments_lexer": "r",
   "version": "4.1.3"
  }
 },
 "nbformat": 4,
 "nbformat_minor": 5
}
